{
 "cells": [
  {
   "cell_type": "markdown",
   "metadata": {},
   "source": [
    "# Polynomial regression\n",
    "Polynomial regression will allow us to build a nonlinear model by adopting and fitting a polynomial.\n",
    "\n",
    "We have seen how to solve a linear problem. But in everyday life, we meet a lot of other models that are not linear, which are made of curves, sinusoids etc...\n",
    "\n",
    "If we observe the contamination rate of a pandemic, the line will not be linear but will probably look like an exponential curve.\n",
    "\n",
    "For example, if you apply a linear model on these data :\n"
   ]
  },
  {
   "cell_type": "markdown",
   "metadata": {},
   "source": [
    "\n",
    "\n",
    "![polynomial](./assets/polynom_1.JPG)\n",
    "\n",
    "\n",
    "We can see that the bias of our predictions will be important.   \n",
    "We cannot say that our model is effective.\n",
    "\n",
    "But the following model already inspires me much more confidence."
   ]
  },
  {
   "cell_type": "markdown",
   "metadata": {},
   "source": [
    "![](./assets/poly_2.jpg)\n",
    "\n",
    "The polynomial can have several degrees, the more degrees it has, the more it will be able to solve complex problems."
   ]
  },
  {
   "cell_type": "markdown",
   "metadata": {},
   "source": [
    "<img src=\"https://upload.wikimedia.org/wikipedia/commons/1/16/Lsf.gif\" />\n",
    "Source <a href=https://upload.wikimedia.org/wikipedia/commons/1/16/Lsf.gif >Wikipedia</a>"
   ]
  },
  {
   "cell_type": "markdown",
   "metadata": {},
   "source": [
    "Although polynomial models allow us to model relationships of non-linear shapes, they belong to the family of linear models. In the term \"linear model\", the adjective \"linear\" refers to the parameters of the model and the fact that their effects are added together. This is indeed the case here. Moreover, linear regression is a polynomial of degree 1. "
   ]
  },
  {
   "cell_type": "markdown",
   "metadata": {},
   "source": [
    "## Variables studied"
   ]
  },
  {
   "cell_type": "code",
   "execution_count": 1,
   "metadata": {},
   "outputs": [],
   "source": [
    "import numpy as np\n",
    "from sklearn.datasets import make_regression\n",
    "import matplotlib.pyplot as plt\n",
    "import pandas as pd"
   ]
  },
  {
   "cell_type": "markdown",
   "metadata": {},
   "source": [
    "First of all, we will load our dataset. This is a fake dataset for the example."
   ]
  },
  {
   "cell_type": "code",
   "execution_count": 2,
   "metadata": {},
   "outputs": [
    {
     "data": {
      "text/html": [
       "<div>\n",
       "<style scoped>\n",
       "    .dataframe tbody tr th:only-of-type {\n",
       "        vertical-align: middle;\n",
       "    }\n",
       "\n",
       "    .dataframe tbody tr th {\n",
       "        vertical-align: top;\n",
       "    }\n",
       "\n",
       "    .dataframe thead th {\n",
       "        text-align: right;\n",
       "    }\n",
       "</style>\n",
       "<table border=\"1\" class=\"dataframe\">\n",
       "  <thead>\n",
       "    <tr style=\"text-align: right;\">\n",
       "      <th></th>\n",
       "      <th>x</th>\n",
       "      <th>y</th>\n",
       "    </tr>\n",
       "  </thead>\n",
       "  <tbody>\n",
       "    <tr>\n",
       "      <th>0</th>\n",
       "      <td>0.302472</td>\n",
       "      <td>-4.306789</td>\n",
       "    </tr>\n",
       "    <tr>\n",
       "      <th>1</th>\n",
       "      <td>-1.270485</td>\n",
       "      <td>-56.483346</td>\n",
       "    </tr>\n",
       "    <tr>\n",
       "      <th>2</th>\n",
       "      <td>1.532779</td>\n",
       "      <td>211.100819</td>\n",
       "    </tr>\n",
       "    <tr>\n",
       "      <th>3</th>\n",
       "      <td>-1.602058</td>\n",
       "      <td>-39.496543</td>\n",
       "    </tr>\n",
       "    <tr>\n",
       "      <th>4</th>\n",
       "      <td>1.139401</td>\n",
       "      <td>168.565071</td>\n",
       "    </tr>\n",
       "  </tbody>\n",
       "</table>\n",
       "</div>"
      ],
      "text/plain": [
       "          x           y\n",
       "0  0.302472   -4.306789\n",
       "1 -1.270485  -56.483346\n",
       "2  1.532779  211.100819\n",
       "3 -1.602058  -39.496543\n",
       "4  1.139401  168.565071"
      ]
     },
     "execution_count": 2,
     "metadata": {},
     "output_type": "execute_result"
    }
   ],
   "source": [
    "df = pd.read_csv(\"/home/regis/Desktop/regression/ANT-Theano-2-27/4.machine_learning/1.Regression/data/poly.csv\")\n",
    "df.head()"
   ]
  },
  {
   "cell_type": "code",
   "execution_count": 3,
   "metadata": {},
   "outputs": [
    {
     "data": {
      "text/plain": [
       "(200, 2)"
      ]
     },
     "execution_count": 3,
     "metadata": {},
     "output_type": "execute_result"
    }
   ],
   "source": [
    "df.shape"
   ]
  },
  {
   "cell_type": "markdown",
   "metadata": {},
   "source": [
    "As you can see we now have 200 rows, 1 feature and 1 target."
   ]
  },
  {
   "cell_type": "markdown",
   "metadata": {},
   "source": [
    "**Exercise :** Create the x and y variables and define which column will be the target and which column will be the feature. \n",
    "Variables x and y must be of type `numpy.ndarray`. Our variable x therefore has one dimension. (200, 1)"
   ]
  },
  {
   "cell_type": "code",
   "execution_count": 6,
   "metadata": {},
   "outputs": [],
   "source": [
    "x, y=df[['x']].to_numpy(), df[['y']].to_numpy()"
   ]
  },
  {
   "cell_type": "code",
   "execution_count": 7,
   "metadata": {},
   "outputs": [
    {
     "data": {
      "text/plain": [
       "(200, 1)"
      ]
     },
     "execution_count": 7,
     "metadata": {},
     "output_type": "execute_result"
    }
   ],
   "source": [
    "x.shape"
   ]
  },
  {
   "cell_type": "code",
   "execution_count": 8,
   "metadata": {},
   "outputs": [
    {
     "data": {
      "text/plain": [
       "(200, 1)"
      ]
     },
     "execution_count": 8,
     "metadata": {},
     "output_type": "execute_result"
    }
   ],
   "source": [
    "y.shape"
   ]
  },
  {
   "cell_type": "markdown",
   "metadata": {},
   "source": [
    "### Relationship between variables"
   ]
  },
  {
   "cell_type": "markdown",
   "metadata": {},
   "source": [
    "**Exercise:** Use matplotlib (or other) to display a dataset in scatter plot."
   ]
  },
  {
   "cell_type": "code",
   "execution_count": 15,
   "metadata": {},
   "outputs": [
    {
     "data": {
      "text/plain": [
       "<matplotlib.collections.PathCollection at 0x7fbcb7488ad0>"
      ]
     },
     "execution_count": 15,
     "metadata": {},
     "output_type": "execute_result"
    },
    {
     "data": {
      "image/png": "[encoded data removed]",
      "text/plain": [
       "<Figure size 432x288 with 1 Axes>"
      ]
     },
     "metadata": {
      "needs_background": "light"
     },
     "output_type": "display_data"
    }
   ],
   "source": [
    "plt.scatter(x,y)"
   ]
  },
  {
   "cell_type": "markdown",
   "metadata": {},
   "source": [
    "**Exercise :** Show correlation coefficients."
   ]
  },
  {
   "cell_type": "code",
   "execution_count": 16,
   "metadata": {},
   "outputs": [
    {
     "data": {
      "text/plain": [
       "array([[1.       , 0.9112288],\n",
       "       [0.9112288, 1.       ]])"
      ]
     },
     "execution_count": 16,
     "metadata": {},
     "output_type": "execute_result"
    }
   ],
   "source": [
    "r = np.corrcoef(x[:,0], y[:,0])\n",
    "r"
   ]
  },
  {
   "cell_type": "markdown",
   "metadata": {},
   "source": [
    "As we can see, the coefficient of correlation remains important even if the dataset is not perfectly linear."
   ]
  },
  {
   "cell_type": "markdown",
   "metadata": {},
   "source": [
    "### Split the dataset"
   ]
  },
  {
   "cell_type": "markdown",
   "metadata": {},
   "source": [
    "\n",
    "You now know the process!\n",
    "\n",
    "**Exercise :** Import train_test_split from sklearn and split the dataset and create the variables X_train, X_test, y_train, y_test."
   ]
  },
  {
   "cell_type": "code",
   "execution_count": 17,
   "metadata": {},
   "outputs": [],
   "source": [
    "from sklearn.model_selection import train_test_split\n",
    "X_train, X_test, y_train, y_test = train_test_split(x, y, test_size=0.2, random_state=0)"
   ]
  },
  {
   "cell_type": "markdown",
   "metadata": {},
   "source": [
    "##  Load and fit the model (with Sklearn)"
   ]
  },
  {
   "cell_type": "markdown",
   "metadata": {},
   "source": [
    "This time there is a little change. \n",
    "We have a single feature in our dataset. The polynomial model is a special case of multiple regression. So we need several features to be able to apply polynomial regression. And these features, we'll have to add them ourselves. By the way, this way of doing things has a name: feature engineering.\n",
    "\n",
    "\n",
    "Let's imagine that we want to have a 2-degree polynomial regression. \n",
    "So we will need to add a feature. \n",
    "This feature is simply an exponent of x.  \n",
    "\n",
    "$[ x, x²]$\n",
    "\n",
    "So x² is the new feature.\n",
    "\n",
    "If you want a 3-degree polynomial model, you will have to add 2 features in this case.\n",
    "\n",
    "$[x, x², x³]$\n",
    "\n",
    "To do this, we will need to create a pipeline. \n",
    "A pipeline is a processing chain that will execute a set of functions and pass arguments between them.\n"
   ]
  },
  {
   "cell_type": "code",
   "execution_count": 31,
   "metadata": {},
   "outputs": [
    {
     "data": {
      "text/plain": [
       "'from sklearn.preprocessing import PolynomialFeatures\\ntrans = PolynomialFeatures(degree=2,include_bias=False)\\nx_d3 = trans.fit_transform(x)\\nprint(x_d3)'"
      ]
     },
     "execution_count": 31,
     "metadata": {},
     "output_type": "execute_result"
    }
   ],
   "source": [
    "'''from sklearn.preprocessing import PolynomialFeatures\n",
    "trans = PolynomialFeatures(degree=2,include_bias=False)\n",
    "x_d3 = trans.fit_transform(x)\n",
    "print(x_d3)'''"
   ]
  },
  {
   "cell_type": "markdown",
   "metadata": {},
   "source": [
    "First of all, we need to define the number of degrees.   \n",
    "**Exercise:** Create a degree variable with 1 as value. (We will change this value later)"
   ]
  },
  {
   "cell_type": "code",
   "execution_count": 37,
   "metadata": {},
   "outputs": [],
   "source": [
    "degree=1"
   ]
  },
  {
   "cell_type": "markdown",
   "metadata": {},
   "source": [
    "**Exercise :** Create a pipeline with sklearn.This pipeline must contain the ``PolynomialFeatures`` and ``LinearRegression`` classes. Don't forget to set the number of degrees for the ``PolynomialFeatures``\n"
   ]
  },
  {
   "cell_type": "code",
   "execution_count": 38,
   "metadata": {},
   "outputs": [],
   "source": [
    "from sklearn.preprocessing import PolynomialFeatures\n",
    "from sklearn.pipeline import make_pipeline\n",
    "from sklearn.linear_model import LinearRegression\n",
    "polyreg=make_pipeline(PolynomialFeatures(degree),LinearRegression())"
   ]
  },
  {
   "cell_type": "markdown",
   "metadata": {},
   "source": [
    "**Exercise :** Fit your model."
   ]
  },
  {
   "cell_type": "code",
   "execution_count": 43,
   "metadata": {},
   "outputs": [
    {
     "data": {
      "text/plain": [
       "Pipeline(steps=[('polynomialfeatures', PolynomialFeatures(degree=1)),\n",
       "                ('linearregression', LinearRegression())])"
      ]
     },
     "execution_count": 43,
     "metadata": {},
     "output_type": "execute_result"
    }
   ],
   "source": [
    "polyreg.fit(X_train,y_train)"
   ]
  },
  {
   "cell_type": "markdown",
   "metadata": {},
   "source": [
    "**Exercise :** Use a scatter plot and display your predictions on X_test"
   ]
  },
  {
   "cell_type": "code",
   "execution_count": 44,
   "metadata": {},
   "outputs": [
    {
     "data": {
      "text/plain": [
       "0.8404080601453898"
      ]
     },
     "execution_count": 44,
     "metadata": {},
     "output_type": "execute_result"
    }
   ],
   "source": [
    "polyreg.score(X_train,y_train)"
   ]
  },
  {
   "cell_type": "code",
   "execution_count": 45,
   "metadata": {},
   "outputs": [
    {
     "data": {
      "text/plain": [
       "array([[   8.43940479],\n",
       "       [ 118.30454181],\n",
       "       [ 145.08115573],\n",
       "       [  43.93203955],\n",
       "       [ 150.04388057],\n",
       "       [  85.86940566],\n",
       "       [   2.98730277],\n",
       "       [ 122.4754305 ],\n",
       "       [  12.66183939],\n",
       "       [-100.43314983],\n",
       "       [  87.94534974],\n",
       "       [  39.08250534],\n",
       "       [  66.5882037 ],\n",
       "       [  86.43959811],\n",
       "       [  10.49241264],\n",
       "       [ 130.99861467],\n",
       "       [  90.23138476],\n",
       "       [  67.32441254],\n",
       "       [ 272.25828255],\n",
       "       [ -55.78627599],\n",
       "       [  92.25217366],\n",
       "       [ -63.04856863],\n",
       "       [  39.25604964],\n",
       "       [  72.20466033],\n",
       "       [ -78.23612476],\n",
       "       [  67.11579505],\n",
       "       [  75.31242087],\n",
       "       [  59.58566264],\n",
       "       [  69.94011886],\n",
       "       [ 127.78020692],\n",
       "       [-101.29221466],\n",
       "       [ -75.91398084],\n",
       "       [ -44.12205001],\n",
       "       [  84.3754556 ],\n",
       "       [ 173.08258926],\n",
       "       [  59.98865546],\n",
       "       [ -37.62868539],\n",
       "       [ 169.11549791],\n",
       "       [ -12.50938242],\n",
       "       [  70.08131256]])"
      ]
     },
     "execution_count": 45,
     "metadata": {},
     "output_type": "execute_result"
    }
   ],
   "source": [
    "polyreg.predict(X_test)"
   ]
  },
  {
   "cell_type": "code",
   "execution_count": 46,
   "metadata": {},
   "outputs": [
    {
     "data": {
      "text/plain": [
       "0.7210154017830409"
      ]
     },
     "execution_count": 46,
     "metadata": {},
     "output_type": "execute_result"
    }
   ],
   "source": [
    "polyreg.score(X_test, y_test)"
   ]
  },
  {
   "cell_type": "code",
   "execution_count": 47,
   "metadata": {},
   "outputs": [
    {
     "data": {
      "text/plain": [
       "[<matplotlib.lines.Line2D at 0x7fbcb72c6350>]"
      ]
     },
     "execution_count": 47,
     "metadata": {},
     "output_type": "execute_result"
    },
    {
     "data": {
      "image/png": "[encoded data removed]",
      "text/plain": [
       "<Figure size 432x288 with 1 Axes>"
      ]
     },
     "metadata": {
      "needs_background": "light"
     },
     "output_type": "display_data"
    }
   ],
   "source": [
    "plt.scatter(X_test, y_test, color='red')\n",
    "plt.plot(X_test, polyreg.predict(X_test), color='blue')"
   ]
  },
  {
   "cell_type": "markdown",
   "metadata": {},
   "source": [
    "If you see a straight line it is because we have set the number of degrees to one. This confirms that the linear regression is indeed a polynomial model of degree 1.\n",
    "\n",
    "**Exercise :** Change the number of degrees and train your model again. You must try to fit the curve as well as possible while limiting the number of degrees, to save some resources from your machine."
   ]
  },
  {
   "cell_type": "code",
   "execution_count": 138,
   "metadata": {},
   "outputs": [],
   "source": [
    "degree=2"
   ]
  },
  {
   "cell_type": "code",
   "execution_count": 139,
   "metadata": {},
   "outputs": [],
   "source": [
    "from sklearn.preprocessing import PolynomialFeatures\n",
    "from sklearn.pipeline import make_pipeline\n",
    "from sklearn.linear_model import LinearRegression\n",
    "polyreg=make_pipeline(PolynomialFeatures(degree),LinearRegression())"
   ]
  },
  {
   "cell_type": "code",
   "execution_count": 140,
   "metadata": {},
   "outputs": [
    {
     "data": {
      "text/plain": [
       "Pipeline(steps=[('polynomialfeatures', PolynomialFeatures()),\n",
       "                ('linearregression', LinearRegression())])"
      ]
     },
     "execution_count": 140,
     "metadata": {},
     "output_type": "execute_result"
    }
   ],
   "source": [
    "polyreg.fit(X_train,y_train)"
   ]
  },
  {
   "cell_type": "code",
   "execution_count": 141,
   "metadata": {},
   "outputs": [
    {
     "data": {
      "text/plain": [
       "0.9112980610785768"
      ]
     },
     "execution_count": 141,
     "metadata": {},
     "output_type": "execute_result"
    }
   ],
   "source": [
    "polyreg.score(X_train,y_train)"
   ]
  },
  {
   "cell_type": "code",
   "execution_count": 142,
   "metadata": {},
   "outputs": [
    {
     "data": {
      "text/plain": [
       "0.8938451431932254"
      ]
     },
     "execution_count": 142,
     "metadata": {},
     "output_type": "execute_result"
    }
   ],
   "source": [
    "polyreg.score(X_test, y_test)"
   ]
  },
  {
   "cell_type": "code",
   "execution_count": 143,
   "metadata": {},
   "outputs": [
    {
     "data": {
      "text/plain": [
       "2.383144774863942"
      ]
     },
     "execution_count": 143,
     "metadata": {},
     "output_type": "execute_result"
    }
   ],
   "source": [
    "np.amax(X_train)"
   ]
  },
  {
   "cell_type": "code",
   "execution_count": 144,
   "metadata": {},
   "outputs": [
    {
     "data": {
      "text/plain": [
       "-2.5529898158340787"
      ]
     },
     "execution_count": 144,
     "metadata": {},
     "output_type": "execute_result"
    }
   ],
   "source": [
    "np.amin(X_train)"
   ]
  },
  {
   "cell_type": "code",
   "execution_count": 145,
   "metadata": {},
   "outputs": [],
   "source": [
    "X_seq = np.linspace(np.amin(X_train),np.amax(X_train),300).reshape(-1,1)"
   ]
  },
  {
   "cell_type": "code",
   "execution_count": 146,
   "metadata": {},
   "outputs": [
    {
     "data": {
      "image/png": "[encoded data removed]",
      "text/plain": [
       "<Figure size 432x288 with 1 Axes>"
      ]
     },
     "metadata": {
      "needs_background": "light"
     },
     "output_type": "display_data"
    }
   ],
   "source": [
    "plt.figure()\n",
    "plt.scatter(X_test,y_test)\n",
    "plt.plot(X_seq,polyreg.predict(X_seq),color=\"black\")\n",
    "plt.title(\"Polynomial regression with degree \"+str(degree))\n",
    "plt.show()"
   ]
  },
  {
   "cell_type": "code",
   "execution_count": 122,
   "metadata": {},
   "outputs": [],
   "source": [
    "#this does not work"
   ]
  },
  {
   "cell_type": "code",
   "execution_count": 77,
   "metadata": {},
   "outputs": [
    {
     "data": {
      "text/plain": [
       "[<matplotlib.lines.Line2D at 0x7fbcb44dcc90>]"
      ]
     },
     "execution_count": 77,
     "metadata": {},
     "output_type": "execute_result"
    },
    {
     "data": {
      "image/png": "[encoded data removed]",
      "text/plain": [
       "<Figure size 432x288 with 1 Axes>"
      ]
     },
     "metadata": {
      "needs_background": "light"
     },
     "output_type": "display_data"
    }
   ],
   "source": [
    "plt.scatter(X_test, y_test, color='red')\n",
    "plt.plot(X_test, polyreg.predict(X_test), color='blue')"
   ]
  },
  {
   "cell_type": "markdown",
   "metadata": {},
   "source": [
    "## From scratch."
   ]
  },
  {
   "cell_type": "markdown",
   "metadata": {},
   "source": [
    "Again a few changes. This time we'll just have to add new features manually. \n",
    "\n",
    "### Transform to matrix\n",
    "\n",
    "$$\n",
    "\\\\ Y = X . \\theta \\\\\n",
    "$$\n",
    "\n",
    "The $Y$ vector is the same too\n",
    "\n",
    "$$Y =\n",
    "\\begin{bmatrix}\n",
    "y^{(1)}\\\\\n",
    "y^{(2)}\\\\\n",
    "y^{(3)}\\\\\n",
    "... \\\\\n",
    "y^{(m)}\\\\\n",
    "\\end{bmatrix}\n",
    "$$ \n"
   ]
  },
  {
   "cell_type": "markdown",
   "metadata": {},
   "source": [
    "The theta vector will have as many lines as there are characteristics +1 (for the constant). \n",
    "$$ \\theta =\n",
    "\\begin{bmatrix}\n",
    "a\\\\\n",
    "b\\\\\n",
    "c\\\\\n",
    "... \\\\\n",
    "\\end{bmatrix}\n",
    "$$"
   ]
  },
  {
   "cell_type": "markdown",
   "metadata": {},
   "source": [
    "The $X$ initially looks like this : "
   ]
  },
  {
   "cell_type": "markdown",
   "metadata": {},
   "source": [
    "$$ X =\n",
    "\\begin{bmatrix}\n",
    "x^{(1)}\\\\\n",
    "x^{(2)}\\\\\n",
    "x^{(3)}\\\\\n",
    "x^{(m)}\\\\\n",
    "\\end{bmatrix}\n",
    "$$"
   ]
  },
  {
   "cell_type": "markdown",
   "metadata": {},
   "source": [
    "If we want to add a degree to the polynomial, it adds a feature to our $X$. And this feature will contain x²."
   ]
  },
  {
   "cell_type": "markdown",
   "metadata": {},
   "source": [
    "Example of polynomial of degree 2 :"
   ]
  },
  {
   "cell_type": "markdown",
   "metadata": {},
   "source": [
    "$$ X =\n",
    "\\begin{bmatrix}\n",
    "x^{(1)}_1, x^{(1)2}_2\\\\\n",
    "x^{(2)}_1, x^{(2)2}_2\\\\\n",
    "x^{(3)}_1, x^{(3)2}_2\\\\\n",
    "\\dots, \\dots\\\\\n",
    "x^{(m)}_1,x^{(m)k}_2\\\\\n",
    "\\end{bmatrix}\n",
    "$$"
   ]
  },
  {
   "cell_type": "markdown",
   "metadata": {},
   "source": [
    "Example of polynomial of degree 3: (In this case the third feature will be of power 3.)"
   ]
  },
  {
   "cell_type": "markdown",
   "metadata": {},
   "source": [
    "$$ X =\n",
    "\\begin{bmatrix}\n",
    "x^{(1)}_1, x^{(1)2}_2, x^{(1)3}_3\\\\\n",
    "x^{(2)}_1, x^{(2)2}_2, x^{(2)3}_3\\\\\n",
    "x^{(3)}_1, x^{(3)2}_2, x^{(3)3}_3\\\\\n",
    "\\dots, \\dots,\\dots \\\\\n",
    "x^{(m)}_1,x^{(m)2}_2, x^{(m)3}_3\\\\\n",
    "\\end{bmatrix}\n",
    "$$\n",
    "\n",
    "And so on and so forth. Of course, don't forget at the end to add a feature with only 1s."
   ]
  },
  {
   "cell_type": "markdown",
   "metadata": {},
   "source": [
    "$$ X =\n",
    "\\begin{bmatrix}\n",
    "x^{(1)}_1, x^{(1)2}_2, ..., x^{(m)k}_{n}, 1\\\\\n",
    "x^{(2)}_1, x^{(2)2}_2, ..., x^{(m)k}_{n}, 1\\\\\n",
    "x^{(3)}_1, x^{(3)2}_2, ..., x^{(m)k}_{n}, 1\\\\\n",
    "x^{(m)}_1,x^{(m)k}_2, ..., x^{(m)k}_{n}, 1\\\\\n",
    "\\end{bmatrix}\n",
    "$$"
   ]
  },
  {
   "cell_type": "markdown",
   "metadata": {},
   "source": [
    "**Exercise :** Create a matrix for a 3 degrees polynomial $[x, x², x³, 1]$"
   ]
  },
  {
   "cell_type": "code",
   "execution_count": 149,
   "metadata": {},
   "outputs": [
    {
     "data": {
      "text/plain": [
       "array([[ 0.3024719 ],\n",
       "       [-1.270485  ],\n",
       "       [ 1.53277921],\n",
       "       [-1.60205766],\n",
       "       [ 1.13940068],\n",
       "       [-0.50965218],\n",
       "       [ 0.40746184],\n",
       "       [ 0.76103773],\n",
       "       [ 0.44386323],\n",
       "       [ 0.37816252],\n",
       "       [-1.45436567],\n",
       "       [-1.07075262],\n",
       "       [-0.41361898],\n",
       "       [ 1.92294203],\n",
       "       [-0.89546656],\n",
       "       [-0.38732682],\n",
       "       [-1.5447711 ],\n",
       "       [-0.80340966],\n",
       "       [-0.4555325 ],\n",
       "       [-0.51080514],\n",
       "       [ 0.1666735 ],\n",
       "       [ 0.92220667],\n",
       "       [ 1.17877957],\n",
       "       [-0.67433266],\n",
       "       [-0.57884966],\n",
       "       [ 1.89588918],\n",
       "       [ 0.4393917 ],\n",
       "       [-0.63432209],\n",
       "       [-1.63019835],\n",
       "       [ 2.2408932 ],\n",
       "       [-0.43782004],\n",
       "       [-1.70627019],\n",
       "       [ 1.48051479],\n",
       "       [ 0.3563664 ],\n",
       "       [-1.34775906],\n",
       "       [ 0.14404357],\n",
       "       [ 1.3263859 ],\n",
       "       [ 2.16323595],\n",
       "       [ 0.6536186 ],\n",
       "       [-1.00021535],\n",
       "       [-0.6436184 ],\n",
       "       [-0.82643854],\n",
       "       [-1.22543552],\n",
       "       [-0.21274028],\n",
       "       [ 0.72909056],\n",
       "       [-0.14963454],\n",
       "       [-1.98079647],\n",
       "       [ 0.57659082],\n",
       "       [ 0.52327666],\n",
       "       [-0.4380743 ],\n",
       "       [ 0.26705087],\n",
       "       [-1.09940079],\n",
       "       [-0.20829876],\n",
       "       [ 0.62523145],\n",
       "       [-1.25279536],\n",
       "       [-1.29285691],\n",
       "       [-0.63584608],\n",
       "       [-1.23482582],\n",
       "       [-0.20515826],\n",
       "       [ 1.78587049],\n",
       "       [-1.31590741],\n",
       "       [ 0.33367433],\n",
       "       [ 0.42833187],\n",
       "       [ 2.26975462],\n",
       "       [-0.68954978],\n",
       "       [ 0.04575852],\n",
       "       [-1.7262826 ],\n",
       "       [ 0.94942081],\n",
       "       [ 2.38314477],\n",
       "       [ 0.67229476],\n",
       "       [-0.40178094],\n",
       "       [-0.68481009],\n",
       "       [-0.30230275],\n",
       "       [ 1.49407907],\n",
       "       [-1.09306151],\n",
       "       [-0.49803245],\n",
       "       [-1.17312341],\n",
       "       [ 1.71334272],\n",
       "       [ 1.33652795],\n",
       "       [ 0.46566244],\n",
       "       [-0.43515355],\n",
       "       [-1.42001794],\n",
       "       [-0.67246045],\n",
       "       [-0.66347829],\n",
       "       [ 0.92085882],\n",
       "       [-2.55298982],\n",
       "       [ 1.86755799],\n",
       "       [ 0.40198936],\n",
       "       [-0.65102559],\n",
       "       [-0.69456786],\n",
       "       [-1.03424284],\n",
       "       [-2.22340315],\n",
       "       [ 1.12663592],\n",
       "       [ 1.46935877],\n",
       "       [ 0.40015721],\n",
       "       [ 0.0519454 ],\n",
       "       [-0.74745481],\n",
       "       [ 0.84436298],\n",
       "       [-0.10321885],\n",
       "       [-0.85409574],\n",
       "       [-0.35399391],\n",
       "       [-1.18063218],\n",
       "       [-0.90729836],\n",
       "       [ 0.31694261],\n",
       "       [ 1.18802979],\n",
       "       [-0.76991607],\n",
       "       [ 0.15634897],\n",
       "       [ 0.90082649],\n",
       "       [-0.02818223],\n",
       "       [-0.34791215],\n",
       "       [ 0.85683061],\n",
       "       [ 0.29823817],\n",
       "       [ 0.96939671],\n",
       "       [-0.31155253],\n",
       "       [-0.17992484],\n",
       "       [ 1.45427351],\n",
       "       [-0.26800337],\n",
       "       [ 0.90604466],\n",
       "       [-1.10438334],\n",
       "       [-0.18718385],\n",
       "       [ 0.94447949],\n",
       "       [ 0.61407937],\n",
       "       [ 0.15494743],\n",
       "       [ 0.12691209],\n",
       "       [ 0.8644362 ],\n",
       "       [-0.15135721],\n",
       "       [ 1.86755896],\n",
       "       [ 1.22244507],\n",
       "       [-0.74216502],\n",
       "       [-0.91282223],\n",
       "       [ 0.12898291],\n",
       "       [ 1.5430146 ],\n",
       "       [-0.17154633],\n",
       "       [-0.15501009],\n",
       "       [ 0.68159452],\n",
       "       [ 0.08755124],\n",
       "       [ 0.06651722],\n",
       "       [-0.03928282],\n",
       "       [ 1.48825219],\n",
       "       [-0.86122569],\n",
       "       [ 0.46278226],\n",
       "       [-0.35955316],\n",
       "       [ 0.53924919],\n",
       "       [ 0.40234164],\n",
       "       [ 1.76405235],\n",
       "       [-1.16514984],\n",
       "       [ 0.67643329],\n",
       "       [ 1.92953205],\n",
       "       [-0.74475482],\n",
       "       [ 0.01747916],\n",
       "       [-0.97727788],\n",
       "       [ 1.84926373],\n",
       "       [-1.53624369],\n",
       "       [ 1.23029068],\n",
       "       [ 0.31872765],\n",
       "       [ 1.11701629],\n",
       "       [-0.06824161],\n",
       "       [-0.40317695],\n",
       "       [ 0.77179055],\n",
       "       [ 0.17742614],\n",
       "       [ 0.97663904],\n",
       "       [-1.49125759],\n",
       "       [ 0.39600671],\n",
       "       [-0.739563  ],\n",
       "       [-0.88778575],\n",
       "       [ 0.01050002],\n",
       "       [ 0.70657317],\n",
       "       [ 1.91006495],\n",
       "       [-0.36274117],\n",
       "       [ 1.20237985],\n",
       "       [ 0.63503144],\n",
       "       [-1.1680935 ],\n",
       "       [-1.14746865],\n",
       "       [-0.09845252],\n",
       "       [-1.04855297],\n",
       "       [-1.61389785],\n",
       "       [ 1.8831507 ],\n",
       "       [ 0.95008842],\n",
       "       [ 1.94362119],\n",
       "       [ 0.20827498],\n",
       "       [ 0.12167502],\n",
       "       [ 1.05445173],\n",
       "       [ 0.3130677 ],\n",
       "       [ 0.37642553],\n",
       "       [-0.4615846 ],\n",
       "       [ 0.05216508],\n",
       "       [ 0.77749036],\n",
       "       [ 0.82350415],\n",
       "       [-0.81314628],\n",
       "       [ 0.05616534],\n",
       "       [ 1.9507754 ],\n",
       "       [-1.37495129],\n",
       "       [ 0.94725197],\n",
       "       [ 0.03183056],\n",
       "       [ 0.8024564 ],\n",
       "       [ 0.4105985 ],\n",
       "       [-1.07993151],\n",
       "       [-0.87079715],\n",
       "       [ 0.97873798],\n",
       "       [ 0.3869025 ]])"
      ]
     },
     "execution_count": 149,
     "metadata": {},
     "output_type": "execute_result"
    }
   ],
   "source": [
    "x"
   ]
  },
  {
   "cell_type": "code",
   "execution_count": 148,
   "metadata": {},
   "outputs": [
    {
     "data": {
      "text/plain": [
       "array([[ 3.02471898e-01,  9.14892489e-02,  2.76729267e-02],\n",
       "       [-1.27048500e+00,  1.61413213e+00, -2.05073066e+00],\n",
       "       [ 1.53277921e+00,  2.34941212e+00,  3.60113006e+00],\n",
       "       [-1.60205766e+00,  2.56658873e+00, -4.11182313e+00],\n",
       "       [ 1.13940068e+00,  1.29823392e+00,  1.47920862e+00],\n",
       "       [-5.09652182e-01,  2.59745346e-01, -1.32379782e-01],\n",
       "       [ 4.07461836e-01,  1.66025148e-01,  6.76489117e-02],\n",
       "       [ 7.61037725e-01,  5.79178419e-01,  4.40776627e-01],\n",
       "       [ 4.43863233e-01,  1.97014569e-01,  8.74475237e-02],\n",
       "       [ 3.78162520e-01,  1.43006891e-01,  5.40798463e-02],\n",
       "       [-1.45436567e+00,  2.11517952e+00, -3.07624448e+00],\n",
       "       [-1.07075262e+00,  1.14651118e+00, -1.22762985e+00],\n",
       "       [-4.13618981e-01,  1.71080661e-01, -7.07622087e-02],\n",
       "       [ 1.92294203e+00,  3.69770604e+00,  7.11047434e+00],\n",
       "       [-8.95466561e-01,  8.01860362e-01, -7.18039141e-01],\n",
       "       [-3.87326817e-01,  1.50022063e-01, -5.81075684e-02],\n",
       "       [-1.54477110e+00,  2.38631774e+00, -3.68631467e+00],\n",
       "       [-8.03409664e-01,  6.45467088e-01, -5.18574497e-01],\n",
       "       [-4.55532504e-01,  2.07509862e-01, -9.45274868e-02],\n",
       "       [-5.10805138e-01,  2.60921889e-01, -1.33280241e-01],\n",
       "       [ 1.66673495e-01,  2.77800541e-02,  4.63019871e-03],\n",
       "       [ 9.22206672e-01,  8.50465145e-01,  7.84304631e-01],\n",
       "       [ 1.17877957e+00,  1.38952128e+00,  1.63793930e+00],\n",
       "       [-6.74332661e-01,  4.54724537e-01, -3.06635607e-01],\n",
       "       [-5.78849665e-01,  3.35066934e-01, -1.93953383e-01],\n",
       "       [ 1.89588918e+00,  3.59439577e+00,  6.81457603e+00],\n",
       "       [ 4.39391701e-01,  1.93065067e-01,  8.48311883e-02],\n",
       "       [-6.34322094e-01,  4.02364519e-01, -2.55228704e-01],\n",
       "       [-1.63019835e+00,  2.65754665e+00, -4.33232816e+00],\n",
       "       [ 2.24089320e+00,  5.02160233e+00,  1.12528745e+01],\n",
       "       [-4.37820045e-01,  1.91686392e-01, -8.39241445e-02],\n",
       "       [-1.70627019e+00,  2.91135796e+00, -4.96756331e+00],\n",
       "       [ 1.48051479e+00,  2.19192405e+00,  3.24517597e+00],\n",
       "       [ 3.56366397e-01,  1.26997009e-01,  4.52574666e-02],\n",
       "       [-1.34775906e+00,  1.81645449e+00, -2.44814299e+00],\n",
       "       [ 1.44043571e-01,  2.07485504e-02,  2.98869529e-03],\n",
       "       [ 1.32638590e+00,  1.75929955e+00,  2.33351011e+00],\n",
       "       [ 2.16323595e+00,  4.67958977e+00,  1.01230568e+01],\n",
       "       [ 6.53618595e-01,  4.27217268e-01,  2.79237151e-01],\n",
       "       [-1.00021535e+00,  1.00043074e+00, -1.00064618e+00],\n",
       "       [-6.43618403e-01,  4.14244648e-01, -2.66615479e-01],\n",
       "       [-8.26438539e-01,  6.83000658e-01, -5.64458066e-01],\n",
       "       [-1.22543552e+00,  1.50169221e+00, -1.84022697e+00],\n",
       "       [-2.12740280e-01,  4.52584268e-02, -9.62829040e-03],\n",
       "       [ 7.29090562e-01,  5.31573048e-01,  3.87564892e-01],\n",
       "       [-1.49634540e-01,  2.23904957e-02, -3.35039153e-03],\n",
       "       [-1.98079647e+00,  3.92355465e+00, -7.77176319e+00],\n",
       "       [ 5.76590817e-01,  3.32456970e-01,  1.91691636e-01],\n",
       "       [ 5.23276661e-01,  2.73818463e-01,  1.43282811e-01],\n",
       "       [-4.38074302e-01,  1.91909094e-01, -8.40704422e-02],\n",
       "       [ 2.67050869e-01,  7.13161668e-02,  1.90450443e-02],\n",
       "       [-1.09940079e+00,  1.20868210e+00, -1.32882605e+00],\n",
       "       [-2.08298756e-01,  4.33883716e-02, -9.03774381e-03],\n",
       "       [ 6.25231451e-01,  3.90914367e-01,  2.44411957e-01],\n",
       "       [-1.25279536e+00,  1.56949621e+00, -1.96625757e+00],\n",
       "       [-1.29285691e+00,  1.67147899e+00, -2.16098316e+00],\n",
       "       [-6.35846078e-01,  4.04300235e-01, -2.57072719e-01],\n",
       "       [-1.23482582e+00,  1.52479481e+00, -1.88285600e+00],\n",
       "       [-2.05158264e-01,  4.20899132e-02, -8.63509351e-03],\n",
       "       [ 1.78587049e+00,  3.18933342e+00,  5.69573645e+00],\n",
       "       [-1.31590741e+00,  1.73161231e+00, -2.27864147e+00],\n",
       "       [ 3.33674327e-01,  1.11338557e-01,  3.71508180e-02],\n",
       "       [ 4.28331871e-01,  1.83468191e-01,  7.85852736e-02],\n",
       "       [ 2.26975462e+00,  5.15178605e+00,  1.16932902e+01],\n",
       "       [-6.89549778e-01,  4.75478896e-01, -3.27866367e-01],\n",
       "       [ 4.57585173e-02,  2.09384191e-03,  9.58111011e-05],\n",
       "       [-1.72628260e+00,  2.98005162e+00, -5.14441127e+00],\n",
       "       [ 9.49420807e-01,  9.01399869e-01,  8.55807791e-01],\n",
       "       [ 2.38314477e+00,  5.67937902e+00,  1.35347824e+01],\n",
       "       [ 6.72294757e-01,  4.51980240e-01,  3.03863946e-01],\n",
       "       [-4.01780936e-01,  1.61427921e-01, -6.48586611e-02],\n",
       "       [-6.84810091e-01,  4.68964861e-01, -3.21151869e-01],\n",
       "       [-3.02302751e-01,  9.13869530e-02, -2.76265273e-02],\n",
       "       [ 1.49407907e+00,  2.23227228e+00,  3.33519129e+00],\n",
       "       [-1.09306151e+00,  1.19478346e+00, -1.30597181e+00],\n",
       "       [-4.98032451e-01,  2.48036322e-01, -1.23530137e-01],\n",
       "       [-1.17312341e+00,  1.37621852e+00, -1.61447416e+00],\n",
       "       [ 1.71334272e+00,  2.93554328e+00,  5.02959172e+00],\n",
       "       [ 1.33652795e+00,  1.78630696e+00,  2.38744918e+00],\n",
       "       [ 4.65662440e-01,  2.16841508e-01,  1.00974946e-01],\n",
       "       [-4.35153552e-01,  1.89358614e-01, -8.24000732e-02],\n",
       "       [-1.42001794e+00,  2.01645094e+00, -2.86339651e+00],\n",
       "       [-6.72460448e-01,  4.52203054e-01, -3.04088668e-01],\n",
       "       [-6.63478286e-01,  4.40203436e-01, -2.92065422e-01],\n",
       "       [ 9.20858824e-01,  8.47980973e-01,  7.80870762e-01],\n",
       "       [-2.55298982e+00,  6.51775700e+00, -1.66397672e+01],\n",
       "       [ 1.86755799e+00,  3.48777285e+00,  6.51361805e+00],\n",
       "       [ 4.01989363e-01,  1.61595448e-01,  6.49596514e-02],\n",
       "       [-6.51025593e-01,  4.23834323e-01, -2.75926992e-01],\n",
       "       [-6.94567860e-01,  4.82424512e-01, -3.35076561e-01],\n",
       "       [-1.03424284e+00,  1.06965826e+00, -1.10628639e+00],\n",
       "       [-2.22340315e+00,  4.94352158e+00, -1.09914415e+01],\n",
       "       [ 1.12663592e+00,  1.26930850e+00,  1.43004855e+00],\n",
       "       [ 1.46935877e+00,  2.15901519e+00,  3.17236791e+00],\n",
       "       [ 4.00157208e-01,  1.60125791e-01,  6.40754897e-02],\n",
       "       [ 5.19453958e-02,  2.69832414e-03,  1.40165516e-04],\n",
       "       [-7.47454811e-01,  5.58688695e-01, -4.17594553e-01],\n",
       "       [ 8.44362976e-01,  7.12948836e-01,  6.01987601e-01],\n",
       "       [-1.03218852e-01,  1.06541314e-02, -1.09970721e-03],\n",
       "       [-8.54095739e-01,  7.29479532e-01, -6.23045360e-01],\n",
       "       [-3.53993911e-01,  1.25311689e-01, -4.43595750e-02],\n",
       "       [-1.18063218e+00,  1.39389235e+00, -1.64567417e+00],\n",
       "       [-9.07298364e-01,  8.23190322e-01, -7.46879233e-01],\n",
       "       [ 3.16942612e-01,  1.00452619e-01,  3.18377155e-02],\n",
       "       [ 1.18802979e+00,  1.41141479e+00,  1.67680282e+00],\n",
       "       [-7.69916074e-01,  5.92770762e-01, -4.56383738e-01],\n",
       "       [ 1.56348969e-01,  2.44450001e-02,  3.82195057e-03],\n",
       "       [ 9.00826487e-01,  8.11488360e-01,  7.31010208e-01],\n",
       "       [-2.81822283e-02,  7.94237994e-04, -2.23833965e-05],\n",
       "       [-3.47912149e-01,  1.21042864e-01, -4.21122829e-02],\n",
       "       [ 8.56830612e-01,  7.34158697e-01,  6.29049646e-01],\n",
       "       [ 2.98238174e-01,  8.89460086e-02,  2.65270952e-02],\n",
       "       [ 9.69396708e-01,  9.39729978e-01,  9.10971147e-01],\n",
       "       [-3.11552532e-01,  9.70649803e-02, -3.02408404e-02],\n",
       "       [-1.79924836e-01,  3.23729465e-02, -5.82469709e-03],\n",
       "       [ 1.45427351e+00,  2.11491143e+00,  3.07565967e+00],\n",
       "       [-2.68003371e-01,  7.18258068e-02, -1.92495584e-02],\n",
       "       [ 9.06044658e-01,  8.20916923e-01,  7.43787393e-01],\n",
       "       [-1.10438334e+00,  1.21966256e+00, -1.34697501e+00],\n",
       "       [-1.87183850e-01,  3.50377937e-02, -6.55850912e-03],\n",
       "       [ 9.44479487e-01,  8.92041501e-01,  8.42514900e-01],\n",
       "       [ 6.14079370e-01,  3.77093473e-01,  2.31565323e-01],\n",
       "       [ 1.54947426e-01,  2.40087047e-02,  3.72008699e-03],\n",
       "       [ 1.26912093e-01,  1.61066793e-02,  2.04413237e-03],\n",
       "       [ 8.64436199e-01,  7.47249942e-01,  6.45949899e-01],\n",
       "       [-1.51357208e-01,  2.29090045e-02, -3.46744297e-03],\n",
       "       [ 1.86755896e+00,  3.48777647e+00,  6.51362820e+00],\n",
       "       [ 1.22244507e+00,  1.49437195e+00,  1.82678762e+00],\n",
       "       [-7.42165020e-01,  5.50808918e-01, -4.08791112e-01],\n",
       "       [-9.12822225e-01,  8.33244415e-01, -7.60604021e-01],\n",
       "       [ 1.28982911e-01,  1.66365913e-02,  2.14583597e-03],\n",
       "       [ 1.54301460e+00,  2.38089404e+00,  3.67375426e+00],\n",
       "       [-1.71546331e-01,  2.94281438e-02, -5.04829010e-03],\n",
       "       [-1.55010093e-01,  2.40281290e-02, -3.72460251e-03],\n",
       "       [ 6.81594518e-01,  4.64571087e-01,  3.16649106e-01],\n",
       "       [ 8.75512414e-02,  7.66521987e-03,  6.71099515e-04],\n",
       "       [ 6.65172224e-02,  4.42454087e-03,  2.94308169e-04],\n",
       "       [-3.92828182e-02,  1.54313981e-03, -6.06188806e-05],\n",
       "       [ 1.48825219e+00,  2.21489459e+00,  3.29632174e+00],\n",
       "       [-8.61225685e-01,  7.41709681e-01, -6.38779428e-01],\n",
       "       [ 4.62782256e-01,  2.14167416e-01,  9.91128799e-02],\n",
       "       [-3.59553162e-01,  1.29278476e-01, -4.64824848e-02],\n",
       "       [ 5.39249191e-01,  2.90789690e-01,  1.56808105e-01],\n",
       "       [ 4.02341641e-01,  1.61878796e-01,  6.51305805e-02],\n",
       "       [ 1.76405235e+00,  3.11188068e+00,  5.48952041e+00],\n",
       "       [-1.16514984e+00,  1.35757415e+00, -1.58177731e+00],\n",
       "       [ 6.76433295e-01,  4.57562003e-01,  3.09510173e-01],\n",
       "       [ 1.92953205e+00,  3.72309395e+00,  7.18382911e+00],\n",
       "       [-7.44754822e-01,  5.54659745e-01, -4.13085520e-01],\n",
       "       [ 1.74791590e-02,  3.05521000e-04,  5.34025015e-06],\n",
       "       [-9.77277880e-01,  9.55072054e-01, -9.33370793e-01],\n",
       "       [ 1.84926373e+00,  3.41977634e+00,  6.32406834e+00],\n",
       "       [-1.53624369e+00,  2.36004466e+00, -3.62560371e+00],\n",
       "       [ 1.23029068e+00,  1.51361516e+00,  1.86218662e+00],\n",
       "       [ 3.18727653e-01,  1.01587317e-01,  3.23786870e-02],\n",
       "       [ 1.11701629e+00,  1.24772539e+00,  1.39372958e+00],\n",
       "       [-6.82416053e-02,  4.65691670e-03, -3.17795471e-04],\n",
       "       [-4.03176947e-01,  1.62551651e-01, -6.55370782e-02],\n",
       "       [ 7.71790551e-01,  5.95660655e-01,  4.59725265e-01],\n",
       "       [ 1.77426142e-01,  3.14800360e-02,  5.58538134e-03],\n",
       "       [ 9.76639036e-01,  9.53823808e-01,  9.31541564e-01],\n",
       "       [-1.49125759e+00,  2.22384921e+00, -3.31633202e+00],\n",
       "       [ 3.96006713e-01,  1.56821316e-01,  6.21022940e-02],\n",
       "       [-7.39562996e-01,  5.46953426e-01, -4.04506514e-01],\n",
       "       [-8.87785748e-01,  7.88163534e-01, -6.99720352e-01],\n",
       "       [ 1.05000207e-02,  1.10250435e-04,  1.15763185e-06],\n",
       "       [ 7.06573168e-01,  4.99245642e-01,  3.52753575e-01],\n",
       "       [ 1.91006495e+00,  3.64834813e+00,  6.96858189e+00],\n",
       "       [-3.62741166e-01,  1.31581154e-01, -4.77299010e-02],\n",
       "       [ 1.20237985e+00,  1.44571730e+00,  1.73830135e+00],\n",
       "       [ 6.35031437e-01,  4.03264926e-01,  2.56085905e-01],\n",
       "       [-1.16809350e+00,  1.36444242e+00, -1.59379632e+00],\n",
       "       [-1.14746865e+00,  1.31668431e+00, -1.51085397e+00],\n",
       "       [-9.84525244e-02,  9.69289957e-03, -9.54290431e-04],\n",
       "       [-1.04855297e+00,  1.09946332e+00, -1.15284552e+00],\n",
       "       [-1.61389785e+00,  2.60466626e+00, -4.20366527e+00],\n",
       "       [ 1.88315070e+00,  3.54625655e+00,  6.67813549e+00],\n",
       "       [ 9.50088418e-01,  9.02668001e-01,  8.57614413e-01],\n",
       "       [ 1.94362119e+00,  3.77766331e+00,  7.34234645e+00],\n",
       "       [ 2.08274978e-01,  4.33784665e-02,  9.03464916e-03],\n",
       "       [ 1.21675016e-01,  1.48048096e-02,  1.80137546e-03],\n",
       "       [ 1.05445173e+00,  1.11186844e+00,  1.17241160e+00],\n",
       "       [ 3.13067702e-01,  9.80113858e-02,  3.06841993e-02],\n",
       "       [ 3.76425531e-01,  1.41696181e-01,  5.33380600e-02],\n",
       "       [-4.61584605e-01,  2.13060347e-01, -9.83453763e-02],\n",
       "       [ 5.21650793e-02,  2.72119549e-03,  1.41951379e-04],\n",
       "       [ 7.77490356e-01,  6.04491253e-01,  4.69986120e-01],\n",
       "       [ 8.23504154e-01,  6.78159092e-01,  5.58466829e-01],\n",
       "       [-8.13146282e-01,  6.61206876e-01, -5.37657913e-01],\n",
       "       [ 5.61653422e-02,  3.15454567e-03,  1.77176137e-04],\n",
       "       [ 1.95077540e+00,  3.80552464e+00,  7.42372384e+00],\n",
       "       [-1.37495129e+00,  1.89049106e+00, -2.59933313e+00],\n",
       "       [ 9.47251968e-01,  8.97286290e-01,  8.49956204e-01],\n",
       "       [ 3.18305583e-02,  1.01318444e-03,  3.22502264e-05],\n",
       "       [ 8.02456396e-01,  6.43936267e-01,  5.16730776e-01],\n",
       "       [ 4.10598502e-01,  1.68591130e-01,  6.92232653e-02],\n",
       "       [-1.07993151e+00,  1.16625206e+00, -1.25947235e+00],\n",
       "       [-8.70797149e-01,  7.58287675e-01, -6.60314746e-01],\n",
       "       [ 9.78737984e-01,  9.57928042e-01,  9.37560560e-01],\n",
       "       [ 3.86902498e-01,  1.49693543e-01,  5.79168056e-02]])"
      ]
     },
     "execution_count": 148,
     "metadata": {},
     "output_type": "execute_result"
    }
   ],
   "source": [
    "from sklearn.preprocessing import PolynomialFeatures\n",
    "trans = PolynomialFeatures(degree=3,include_bias=False)\n",
    "x_d3 = trans.fit_transform(x)\n",
    "x_d3"
   ]
  },
  {
   "cell_type": "code",
   "execution_count": 152,
   "metadata": {},
   "outputs": [],
   "source": [
    "X=np.hstack((x_d3, np.ones((x.shape[0],1))))"
   ]
  },
  {
   "cell_type": "code",
   "execution_count": 157,
   "metadata": {},
   "outputs": [
    {
     "data": {
      "text/plain": [
       "array([[ 3.02471898e-01,  9.14892489e-02,  2.76729267e-02,\n",
       "         1.00000000e+00],\n",
       "       [-1.27048500e+00,  1.61413213e+00, -2.05073066e+00,\n",
       "         1.00000000e+00],\n",
       "       [ 1.53277921e+00,  2.34941212e+00,  3.60113006e+00,\n",
       "         1.00000000e+00],\n",
       "       [-1.60205766e+00,  2.56658873e+00, -4.11182313e+00,\n",
       "         1.00000000e+00],\n",
       "       [ 1.13940068e+00,  1.29823392e+00,  1.47920862e+00,\n",
       "         1.00000000e+00],\n",
       "       [-5.09652182e-01,  2.59745346e-01, -1.32379782e-01,\n",
       "         1.00000000e+00],\n",
       "       [ 4.07461836e-01,  1.66025148e-01,  6.76489117e-02,\n",
       "         1.00000000e+00],\n",
       "       [ 7.61037725e-01,  5.79178419e-01,  4.40776627e-01,\n",
       "         1.00000000e+00],\n",
       "       [ 4.43863233e-01,  1.97014569e-01,  8.74475237e-02,\n",
       "         1.00000000e+00],\n",
       "       [ 3.78162520e-01,  1.43006891e-01,  5.40798463e-02,\n",
       "         1.00000000e+00],\n",
       "       [-1.45436567e+00,  2.11517952e+00, -3.07624448e+00,\n",
       "         1.00000000e+00],\n",
       "       [-1.07075262e+00,  1.14651118e+00, -1.22762985e+00,\n",
       "         1.00000000e+00],\n",
       "       [-4.13618981e-01,  1.71080661e-01, -7.07622087e-02,\n",
       "         1.00000000e+00],\n",
       "       [ 1.92294203e+00,  3.69770604e+00,  7.11047434e+00,\n",
       "         1.00000000e+00],\n",
       "       [-8.95466561e-01,  8.01860362e-01, -7.18039141e-01,\n",
       "         1.00000000e+00],\n",
       "       [-3.87326817e-01,  1.50022063e-01, -5.81075684e-02,\n",
       "         1.00000000e+00],\n",
       "       [-1.54477110e+00,  2.38631774e+00, -3.68631467e+00,\n",
       "         1.00000000e+00],\n",
       "       [-8.03409664e-01,  6.45467088e-01, -5.18574497e-01,\n",
       "         1.00000000e+00],\n",
       "       [-4.55532504e-01,  2.07509862e-01, -9.45274868e-02,\n",
       "         1.00000000e+00],\n",
       "       [-5.10805138e-01,  2.60921889e-01, -1.33280241e-01,\n",
       "         1.00000000e+00],\n",
       "       [ 1.66673495e-01,  2.77800541e-02,  4.63019871e-03,\n",
       "         1.00000000e+00],\n",
       "       [ 9.22206672e-01,  8.50465145e-01,  7.84304631e-01,\n",
       "         1.00000000e+00],\n",
       "       [ 1.17877957e+00,  1.38952128e+00,  1.63793930e+00,\n",
       "         1.00000000e+00],\n",
       "       [-6.74332661e-01,  4.54724537e-01, -3.06635607e-01,\n",
       "         1.00000000e+00],\n",
       "       [-5.78849665e-01,  3.35066934e-01, -1.93953383e-01,\n",
       "         1.00000000e+00],\n",
       "       [ 1.89588918e+00,  3.59439577e+00,  6.81457603e+00,\n",
       "         1.00000000e+00],\n",
       "       [ 4.39391701e-01,  1.93065067e-01,  8.48311883e-02,\n",
       "         1.00000000e+00],\n",
       "       [-6.34322094e-01,  4.02364519e-01, -2.55228704e-01,\n",
       "         1.00000000e+00],\n",
       "       [-1.63019835e+00,  2.65754665e+00, -4.33232816e+00,\n",
       "         1.00000000e+00],\n",
       "       [ 2.24089320e+00,  5.02160233e+00,  1.12528745e+01,\n",
       "         1.00000000e+00],\n",
       "       [-4.37820045e-01,  1.91686392e-01, -8.39241445e-02,\n",
       "         1.00000000e+00],\n",
       "       [-1.70627019e+00,  2.91135796e+00, -4.96756331e+00,\n",
       "         1.00000000e+00],\n",
       "       [ 1.48051479e+00,  2.19192405e+00,  3.24517597e+00,\n",
       "         1.00000000e+00],\n",
       "       [ 3.56366397e-01,  1.26997009e-01,  4.52574666e-02,\n",
       "         1.00000000e+00],\n",
       "       [-1.34775906e+00,  1.81645449e+00, -2.44814299e+00,\n",
       "         1.00000000e+00],\n",
       "       [ 1.44043571e-01,  2.07485504e-02,  2.98869529e-03,\n",
       "         1.00000000e+00],\n",
       "       [ 1.32638590e+00,  1.75929955e+00,  2.33351011e+00,\n",
       "         1.00000000e+00],\n",
       "       [ 2.16323595e+00,  4.67958977e+00,  1.01230568e+01,\n",
       "         1.00000000e+00],\n",
       "       [ 6.53618595e-01,  4.27217268e-01,  2.79237151e-01,\n",
       "         1.00000000e+00],\n",
       "       [-1.00021535e+00,  1.00043074e+00, -1.00064618e+00,\n",
       "         1.00000000e+00],\n",
       "       [-6.43618403e-01,  4.14244648e-01, -2.66615479e-01,\n",
       "         1.00000000e+00],\n",
       "       [-8.26438539e-01,  6.83000658e-01, -5.64458066e-01,\n",
       "         1.00000000e+00],\n",
       "       [-1.22543552e+00,  1.50169221e+00, -1.84022697e+00,\n",
       "         1.00000000e+00],\n",
       "       [-2.12740280e-01,  4.52584268e-02, -9.62829040e-03,\n",
       "         1.00000000e+00],\n",
       "       [ 7.29090562e-01,  5.31573048e-01,  3.87564892e-01,\n",
       "         1.00000000e+00],\n",
       "       [-1.49634540e-01,  2.23904957e-02, -3.35039153e-03,\n",
       "         1.00000000e+00],\n",
       "       [-1.98079647e+00,  3.92355465e+00, -7.77176319e+00,\n",
       "         1.00000000e+00],\n",
       "       [ 5.76590817e-01,  3.32456970e-01,  1.91691636e-01,\n",
       "         1.00000000e+00],\n",
       "       [ 5.23276661e-01,  2.73818463e-01,  1.43282811e-01,\n",
       "         1.00000000e+00],\n",
       "       [-4.38074302e-01,  1.91909094e-01, -8.40704422e-02,\n",
       "         1.00000000e+00],\n",
       "       [ 2.67050869e-01,  7.13161668e-02,  1.90450443e-02,\n",
       "         1.00000000e+00],\n",
       "       [-1.09940079e+00,  1.20868210e+00, -1.32882605e+00,\n",
       "         1.00000000e+00],\n",
       "       [-2.08298756e-01,  4.33883716e-02, -9.03774381e-03,\n",
       "         1.00000000e+00],\n",
       "       [ 6.25231451e-01,  3.90914367e-01,  2.44411957e-01,\n",
       "         1.00000000e+00],\n",
       "       [-1.25279536e+00,  1.56949621e+00, -1.96625757e+00,\n",
       "         1.00000000e+00],\n",
       "       [-1.29285691e+00,  1.67147899e+00, -2.16098316e+00,\n",
       "         1.00000000e+00],\n",
       "       [-6.35846078e-01,  4.04300235e-01, -2.57072719e-01,\n",
       "         1.00000000e+00],\n",
       "       [-1.23482582e+00,  1.52479481e+00, -1.88285600e+00,\n",
       "         1.00000000e+00],\n",
       "       [-2.05158264e-01,  4.20899132e-02, -8.63509351e-03,\n",
       "         1.00000000e+00],\n",
       "       [ 1.78587049e+00,  3.18933342e+00,  5.69573645e+00,\n",
       "         1.00000000e+00],\n",
       "       [-1.31590741e+00,  1.73161231e+00, -2.27864147e+00,\n",
       "         1.00000000e+00],\n",
       "       [ 3.33674327e-01,  1.11338557e-01,  3.71508180e-02,\n",
       "         1.00000000e+00],\n",
       "       [ 4.28331871e-01,  1.83468191e-01,  7.85852736e-02,\n",
       "         1.00000000e+00],\n",
       "       [ 2.26975462e+00,  5.15178605e+00,  1.16932902e+01,\n",
       "         1.00000000e+00],\n",
       "       [-6.89549778e-01,  4.75478896e-01, -3.27866367e-01,\n",
       "         1.00000000e+00],\n",
       "       [ 4.57585173e-02,  2.09384191e-03,  9.58111011e-05,\n",
       "         1.00000000e+00],\n",
       "       [-1.72628260e+00,  2.98005162e+00, -5.14441127e+00,\n",
       "         1.00000000e+00],\n",
       "       [ 9.49420807e-01,  9.01399869e-01,  8.55807791e-01,\n",
       "         1.00000000e+00],\n",
       "       [ 2.38314477e+00,  5.67937902e+00,  1.35347824e+01,\n",
       "         1.00000000e+00],\n",
       "       [ 6.72294757e-01,  4.51980240e-01,  3.03863946e-01,\n",
       "         1.00000000e+00],\n",
       "       [-4.01780936e-01,  1.61427921e-01, -6.48586611e-02,\n",
       "         1.00000000e+00],\n",
       "       [-6.84810091e-01,  4.68964861e-01, -3.21151869e-01,\n",
       "         1.00000000e+00],\n",
       "       [-3.02302751e-01,  9.13869530e-02, -2.76265273e-02,\n",
       "         1.00000000e+00],\n",
       "       [ 1.49407907e+00,  2.23227228e+00,  3.33519129e+00,\n",
       "         1.00000000e+00],\n",
       "       [-1.09306151e+00,  1.19478346e+00, -1.30597181e+00,\n",
       "         1.00000000e+00],\n",
       "       [-4.98032451e-01,  2.48036322e-01, -1.23530137e-01,\n",
       "         1.00000000e+00],\n",
       "       [-1.17312341e+00,  1.37621852e+00, -1.61447416e+00,\n",
       "         1.00000000e+00],\n",
       "       [ 1.71334272e+00,  2.93554328e+00,  5.02959172e+00,\n",
       "         1.00000000e+00],\n",
       "       [ 1.33652795e+00,  1.78630696e+00,  2.38744918e+00,\n",
       "         1.00000000e+00],\n",
       "       [ 4.65662440e-01,  2.16841508e-01,  1.00974946e-01,\n",
       "         1.00000000e+00],\n",
       "       [-4.35153552e-01,  1.89358614e-01, -8.24000732e-02,\n",
       "         1.00000000e+00],\n",
       "       [-1.42001794e+00,  2.01645094e+00, -2.86339651e+00,\n",
       "         1.00000000e+00],\n",
       "       [-6.72460448e-01,  4.52203054e-01, -3.04088668e-01,\n",
       "         1.00000000e+00],\n",
       "       [-6.63478286e-01,  4.40203436e-01, -2.92065422e-01,\n",
       "         1.00000000e+00],\n",
       "       [ 9.20858824e-01,  8.47980973e-01,  7.80870762e-01,\n",
       "         1.00000000e+00],\n",
       "       [-2.55298982e+00,  6.51775700e+00, -1.66397672e+01,\n",
       "         1.00000000e+00],\n",
       "       [ 1.86755799e+00,  3.48777285e+00,  6.51361805e+00,\n",
       "         1.00000000e+00],\n",
       "       [ 4.01989363e-01,  1.61595448e-01,  6.49596514e-02,\n",
       "         1.00000000e+00],\n",
       "       [-6.51025593e-01,  4.23834323e-01, -2.75926992e-01,\n",
       "         1.00000000e+00],\n",
       "       [-6.94567860e-01,  4.82424512e-01, -3.35076561e-01,\n",
       "         1.00000000e+00],\n",
       "       [-1.03424284e+00,  1.06965826e+00, -1.10628639e+00,\n",
       "         1.00000000e+00],\n",
       "       [-2.22340315e+00,  4.94352158e+00, -1.09914415e+01,\n",
       "         1.00000000e+00],\n",
       "       [ 1.12663592e+00,  1.26930850e+00,  1.43004855e+00,\n",
       "         1.00000000e+00],\n",
       "       [ 1.46935877e+00,  2.15901519e+00,  3.17236791e+00,\n",
       "         1.00000000e+00],\n",
       "       [ 4.00157208e-01,  1.60125791e-01,  6.40754897e-02,\n",
       "         1.00000000e+00],\n",
       "       [ 5.19453958e-02,  2.69832414e-03,  1.40165516e-04,\n",
       "         1.00000000e+00],\n",
       "       [-7.47454811e-01,  5.58688695e-01, -4.17594553e-01,\n",
       "         1.00000000e+00],\n",
       "       [ 8.44362976e-01,  7.12948836e-01,  6.01987601e-01,\n",
       "         1.00000000e+00],\n",
       "       [-1.03218852e-01,  1.06541314e-02, -1.09970721e-03,\n",
       "         1.00000000e+00],\n",
       "       [-8.54095739e-01,  7.29479532e-01, -6.23045360e-01,\n",
       "         1.00000000e+00],\n",
       "       [-3.53993911e-01,  1.25311689e-01, -4.43595750e-02,\n",
       "         1.00000000e+00],\n",
       "       [-1.18063218e+00,  1.39389235e+00, -1.64567417e+00,\n",
       "         1.00000000e+00],\n",
       "       [-9.07298364e-01,  8.23190322e-01, -7.46879233e-01,\n",
       "         1.00000000e+00],\n",
       "       [ 3.16942612e-01,  1.00452619e-01,  3.18377155e-02,\n",
       "         1.00000000e+00],\n",
       "       [ 1.18802979e+00,  1.41141479e+00,  1.67680282e+00,\n",
       "         1.00000000e+00],\n",
       "       [-7.69916074e-01,  5.92770762e-01, -4.56383738e-01,\n",
       "         1.00000000e+00],\n",
       "       [ 1.56348969e-01,  2.44450001e-02,  3.82195057e-03,\n",
       "         1.00000000e+00],\n",
       "       [ 9.00826487e-01,  8.11488360e-01,  7.31010208e-01,\n",
       "         1.00000000e+00],\n",
       "       [-2.81822283e-02,  7.94237994e-04, -2.23833965e-05,\n",
       "         1.00000000e+00],\n",
       "       [-3.47912149e-01,  1.21042864e-01, -4.21122829e-02,\n",
       "         1.00000000e+00],\n",
       "       [ 8.56830612e-01,  7.34158697e-01,  6.29049646e-01,\n",
       "         1.00000000e+00],\n",
       "       [ 2.98238174e-01,  8.89460086e-02,  2.65270952e-02,\n",
       "         1.00000000e+00],\n",
       "       [ 9.69396708e-01,  9.39729978e-01,  9.10971147e-01,\n",
       "         1.00000000e+00],\n",
       "       [-3.11552532e-01,  9.70649803e-02, -3.02408404e-02,\n",
       "         1.00000000e+00],\n",
       "       [-1.79924836e-01,  3.23729465e-02, -5.82469709e-03,\n",
       "         1.00000000e+00],\n",
       "       [ 1.45427351e+00,  2.11491143e+00,  3.07565967e+00,\n",
       "         1.00000000e+00],\n",
       "       [-2.68003371e-01,  7.18258068e-02, -1.92495584e-02,\n",
       "         1.00000000e+00],\n",
       "       [ 9.06044658e-01,  8.20916923e-01,  7.43787393e-01,\n",
       "         1.00000000e+00],\n",
       "       [-1.10438334e+00,  1.21966256e+00, -1.34697501e+00,\n",
       "         1.00000000e+00],\n",
       "       [-1.87183850e-01,  3.50377937e-02, -6.55850912e-03,\n",
       "         1.00000000e+00],\n",
       "       [ 9.44479487e-01,  8.92041501e-01,  8.42514900e-01,\n",
       "         1.00000000e+00],\n",
       "       [ 6.14079370e-01,  3.77093473e-01,  2.31565323e-01,\n",
       "         1.00000000e+00],\n",
       "       [ 1.54947426e-01,  2.40087047e-02,  3.72008699e-03,\n",
       "         1.00000000e+00],\n",
       "       [ 1.26912093e-01,  1.61066793e-02,  2.04413237e-03,\n",
       "         1.00000000e+00],\n",
       "       [ 8.64436199e-01,  7.47249942e-01,  6.45949899e-01,\n",
       "         1.00000000e+00],\n",
       "       [-1.51357208e-01,  2.29090045e-02, -3.46744297e-03,\n",
       "         1.00000000e+00],\n",
       "       [ 1.86755896e+00,  3.48777647e+00,  6.51362820e+00,\n",
       "         1.00000000e+00],\n",
       "       [ 1.22244507e+00,  1.49437195e+00,  1.82678762e+00,\n",
       "         1.00000000e+00],\n",
       "       [-7.42165020e-01,  5.50808918e-01, -4.08791112e-01,\n",
       "         1.00000000e+00],\n",
       "       [-9.12822225e-01,  8.33244415e-01, -7.60604021e-01,\n",
       "         1.00000000e+00],\n",
       "       [ 1.28982911e-01,  1.66365913e-02,  2.14583597e-03,\n",
       "         1.00000000e+00],\n",
       "       [ 1.54301460e+00,  2.38089404e+00,  3.67375426e+00,\n",
       "         1.00000000e+00],\n",
       "       [-1.71546331e-01,  2.94281438e-02, -5.04829010e-03,\n",
       "         1.00000000e+00],\n",
       "       [-1.55010093e-01,  2.40281290e-02, -3.72460251e-03,\n",
       "         1.00000000e+00],\n",
       "       [ 6.81594518e-01,  4.64571087e-01,  3.16649106e-01,\n",
       "         1.00000000e+00],\n",
       "       [ 8.75512414e-02,  7.66521987e-03,  6.71099515e-04,\n",
       "         1.00000000e+00],\n",
       "       [ 6.65172224e-02,  4.42454087e-03,  2.94308169e-04,\n",
       "         1.00000000e+00],\n",
       "       [-3.92828182e-02,  1.54313981e-03, -6.06188806e-05,\n",
       "         1.00000000e+00],\n",
       "       [ 1.48825219e+00,  2.21489459e+00,  3.29632174e+00,\n",
       "         1.00000000e+00],\n",
       "       [-8.61225685e-01,  7.41709681e-01, -6.38779428e-01,\n",
       "         1.00000000e+00],\n",
       "       [ 4.62782256e-01,  2.14167416e-01,  9.91128799e-02,\n",
       "         1.00000000e+00],\n",
       "       [-3.59553162e-01,  1.29278476e-01, -4.64824848e-02,\n",
       "         1.00000000e+00],\n",
       "       [ 5.39249191e-01,  2.90789690e-01,  1.56808105e-01,\n",
       "         1.00000000e+00],\n",
       "       [ 4.02341641e-01,  1.61878796e-01,  6.51305805e-02,\n",
       "         1.00000000e+00],\n",
       "       [ 1.76405235e+00,  3.11188068e+00,  5.48952041e+00,\n",
       "         1.00000000e+00],\n",
       "       [-1.16514984e+00,  1.35757415e+00, -1.58177731e+00,\n",
       "         1.00000000e+00],\n",
       "       [ 6.76433295e-01,  4.57562003e-01,  3.09510173e-01,\n",
       "         1.00000000e+00],\n",
       "       [ 1.92953205e+00,  3.72309395e+00,  7.18382911e+00,\n",
       "         1.00000000e+00],\n",
       "       [-7.44754822e-01,  5.54659745e-01, -4.13085520e-01,\n",
       "         1.00000000e+00],\n",
       "       [ 1.74791590e-02,  3.05521000e-04,  5.34025015e-06,\n",
       "         1.00000000e+00],\n",
       "       [-9.77277880e-01,  9.55072054e-01, -9.33370793e-01,\n",
       "         1.00000000e+00],\n",
       "       [ 1.84926373e+00,  3.41977634e+00,  6.32406834e+00,\n",
       "         1.00000000e+00],\n",
       "       [-1.53624369e+00,  2.36004466e+00, -3.62560371e+00,\n",
       "         1.00000000e+00],\n",
       "       [ 1.23029068e+00,  1.51361516e+00,  1.86218662e+00,\n",
       "         1.00000000e+00],\n",
       "       [ 3.18727653e-01,  1.01587317e-01,  3.23786870e-02,\n",
       "         1.00000000e+00],\n",
       "       [ 1.11701629e+00,  1.24772539e+00,  1.39372958e+00,\n",
       "         1.00000000e+00],\n",
       "       [-6.82416053e-02,  4.65691670e-03, -3.17795471e-04,\n",
       "         1.00000000e+00],\n",
       "       [-4.03176947e-01,  1.62551651e-01, -6.55370782e-02,\n",
       "         1.00000000e+00],\n",
       "       [ 7.71790551e-01,  5.95660655e-01,  4.59725265e-01,\n",
       "         1.00000000e+00],\n",
       "       [ 1.77426142e-01,  3.14800360e-02,  5.58538134e-03,\n",
       "         1.00000000e+00],\n",
       "       [ 9.76639036e-01,  9.53823808e-01,  9.31541564e-01,\n",
       "         1.00000000e+00],\n",
       "       [-1.49125759e+00,  2.22384921e+00, -3.31633202e+00,\n",
       "         1.00000000e+00],\n",
       "       [ 3.96006713e-01,  1.56821316e-01,  6.21022940e-02,\n",
       "         1.00000000e+00],\n",
       "       [-7.39562996e-01,  5.46953426e-01, -4.04506514e-01,\n",
       "         1.00000000e+00],\n",
       "       [-8.87785748e-01,  7.88163534e-01, -6.99720352e-01,\n",
       "         1.00000000e+00],\n",
       "       [ 1.05000207e-02,  1.10250435e-04,  1.15763185e-06,\n",
       "         1.00000000e+00],\n",
       "       [ 7.06573168e-01,  4.99245642e-01,  3.52753575e-01,\n",
       "         1.00000000e+00],\n",
       "       [ 1.91006495e+00,  3.64834813e+00,  6.96858189e+00,\n",
       "         1.00000000e+00],\n",
       "       [-3.62741166e-01,  1.31581154e-01, -4.77299010e-02,\n",
       "         1.00000000e+00],\n",
       "       [ 1.20237985e+00,  1.44571730e+00,  1.73830135e+00,\n",
       "         1.00000000e+00],\n",
       "       [ 6.35031437e-01,  4.03264926e-01,  2.56085905e-01,\n",
       "         1.00000000e+00],\n",
       "       [-1.16809350e+00,  1.36444242e+00, -1.59379632e+00,\n",
       "         1.00000000e+00],\n",
       "       [-1.14746865e+00,  1.31668431e+00, -1.51085397e+00,\n",
       "         1.00000000e+00],\n",
       "       [-9.84525244e-02,  9.69289957e-03, -9.54290431e-04,\n",
       "         1.00000000e+00],\n",
       "       [-1.04855297e+00,  1.09946332e+00, -1.15284552e+00,\n",
       "         1.00000000e+00],\n",
       "       [-1.61389785e+00,  2.60466626e+00, -4.20366527e+00,\n",
       "         1.00000000e+00],\n",
       "       [ 1.88315070e+00,  3.54625655e+00,  6.67813549e+00,\n",
       "         1.00000000e+00],\n",
       "       [ 9.50088418e-01,  9.02668001e-01,  8.57614413e-01,\n",
       "         1.00000000e+00],\n",
       "       [ 1.94362119e+00,  3.77766331e+00,  7.34234645e+00,\n",
       "         1.00000000e+00],\n",
       "       [ 2.08274978e-01,  4.33784665e-02,  9.03464916e-03,\n",
       "         1.00000000e+00],\n",
       "       [ 1.21675016e-01,  1.48048096e-02,  1.80137546e-03,\n",
       "         1.00000000e+00],\n",
       "       [ 1.05445173e+00,  1.11186844e+00,  1.17241160e+00,\n",
       "         1.00000000e+00],\n",
       "       [ 3.13067702e-01,  9.80113858e-02,  3.06841993e-02,\n",
       "         1.00000000e+00],\n",
       "       [ 3.76425531e-01,  1.41696181e-01,  5.33380600e-02,\n",
       "         1.00000000e+00],\n",
       "       [-4.61584605e-01,  2.13060347e-01, -9.83453763e-02,\n",
       "         1.00000000e+00],\n",
       "       [ 5.21650793e-02,  2.72119549e-03,  1.41951379e-04,\n",
       "         1.00000000e+00],\n",
       "       [ 7.77490356e-01,  6.04491253e-01,  4.69986120e-01,\n",
       "         1.00000000e+00],\n",
       "       [ 8.23504154e-01,  6.78159092e-01,  5.58466829e-01,\n",
       "         1.00000000e+00],\n",
       "       [-8.13146282e-01,  6.61206876e-01, -5.37657913e-01,\n",
       "         1.00000000e+00],\n",
       "       [ 5.61653422e-02,  3.15454567e-03,  1.77176137e-04,\n",
       "         1.00000000e+00],\n",
       "       [ 1.95077540e+00,  3.80552464e+00,  7.42372384e+00,\n",
       "         1.00000000e+00],\n",
       "       [-1.37495129e+00,  1.89049106e+00, -2.59933313e+00,\n",
       "         1.00000000e+00],\n",
       "       [ 9.47251968e-01,  8.97286290e-01,  8.49956204e-01,\n",
       "         1.00000000e+00],\n",
       "       [ 3.18305583e-02,  1.01318444e-03,  3.22502264e-05,\n",
       "         1.00000000e+00],\n",
       "       [ 8.02456396e-01,  6.43936267e-01,  5.16730776e-01,\n",
       "         1.00000000e+00],\n",
       "       [ 4.10598502e-01,  1.68591130e-01,  6.92232653e-02,\n",
       "         1.00000000e+00],\n",
       "       [-1.07993151e+00,  1.16625206e+00, -1.25947235e+00,\n",
       "         1.00000000e+00],\n",
       "       [-8.70797149e-01,  7.58287675e-01, -6.60314746e-01,\n",
       "         1.00000000e+00],\n",
       "       [ 9.78737984e-01,  9.57928042e-01,  9.37560560e-01,\n",
       "         1.00000000e+00],\n",
       "       [ 3.86902498e-01,  1.49693543e-01,  5.79168056e-02,\n",
       "         1.00000000e+00]])"
      ]
     },
     "execution_count": 157,
     "metadata": {},
     "output_type": "execute_result"
    }
   ],
   "source": [
    "X"
   ]
  },
  {
   "cell_type": "code",
   "execution_count": 154,
   "metadata": {},
   "outputs": [
    {
     "data": {
      "text/plain": [
       "(200, 4)"
      ]
     },
     "execution_count": 154,
     "metadata": {},
     "output_type": "execute_result"
    }
   ],
   "source": [
    "X.shape"
   ]
  },
  {
   "cell_type": "markdown",
   "metadata": {},
   "source": [
    "**Exercise :** Initialize the random theta vector, with 4 elements (because X has four columns)"
   ]
  },
  {
   "cell_type": "code",
   "execution_count": 158,
   "metadata": {},
   "outputs": [],
   "source": [
    "theta=np.random.randn(4,1)"
   ]
  },
  {
   "cell_type": "markdown",
   "metadata": {},
   "source": [
    "**Exercise :** Create the model. It is always the same $$Y = X . \\theta $$"
   ]
  },
  {
   "cell_type": "code",
   "execution_count": 159,
   "metadata": {},
   "outputs": [],
   "source": [
    "def model(X, theta):\n",
    "    return X.dot(theta)"
   ]
  },
  {
   "cell_type": "markdown",
   "metadata": {},
   "source": [
    "**Exercise :** Create a MSE function. It is always the same too."
   ]
  },
  {
   "cell_type": "code",
   "execution_count": 160,
   "metadata": {},
   "outputs": [],
   "source": [
    "def MSE(X,y,theta):\n",
    "    m=len(y)\n",
    "    return 1/(2*m) * np.sum((model(X, theta) - y)**2)"
   ]
  },
  {
   "cell_type": "code",
   "execution_count": 161,
   "metadata": {},
   "outputs": [
    {
     "data": {
      "text/plain": [
       "8373.542944058765"
      ]
     },
     "execution_count": 161,
     "metadata": {},
     "output_type": "execute_result"
    }
   ],
   "source": [
    "MSE(X,y,theta)"
   ]
  },
  {
   "cell_type": "markdown",
   "metadata": {},
   "source": [
    "**Exercise :** Creat a ``grad`` function. Again, It is always the same."
   ]
  },
  {
   "cell_type": "code",
   "execution_count": 162,
   "metadata": {},
   "outputs": [],
   "source": [
    "def grad(X, y, theta):\n",
    "    m = len(y)\n",
    "    return 1/m * X.T.dot(model(X, theta) - y)"
   ]
  },
  {
   "cell_type": "markdown",
   "metadata": {},
   "source": [
    "**Exercise :** \n",
    "Again...\n",
    "1. Create a `gradient_descent` function that receives as parameter `X`, `y`, `theta`, `learning_rate`, `n_iterations`\n",
    "2. In the function, create a variable `cost_history` with a matrix filled with 0 and which has a length of `n_iterations`. We will use it to display the histogram of the model learning process.\n",
    "3. Create a loop that iterates up to `n_iterations`\n",
    "4. In the loop, update `theta` with the formula of the gradient descent (The example above)\n",
    "5. In the loop, update `cost_history[i]` with the values of `MSE(X,y,theta)`\n",
    "6. Return `theta` and `cost_history`"
   ]
  },
  {
   "cell_type": "code",
   "execution_count": 163,
   "metadata": {},
   "outputs": [],
   "source": [
    "def gradient_descent(X,y,theta,learning_rate,n_iterations):\n",
    "    cost_history=np.zeros(n_iterations)\n",
    "    for i in range(n_iterations):\n",
    "        theta = theta - learning_rate * grad(X, y, theta)\n",
    "        cost_history[i]=MSE(X,y,theta)\n",
    "    return theta, cost_history"
   ]
  },
  {
   "cell_type": "markdown",
   "metadata": {},
   "source": [
    "### Train your model "
   ]
  },
  {
   "cell_type": "markdown",
   "metadata": {},
   "source": [
    "**Exercise :** Create variables `n_iterations` and `learning_rate`."
   ]
  },
  {
   "cell_type": "code",
   "execution_count": 172,
   "metadata": {},
   "outputs": [],
   "source": [
    "n_iterations=1000\n",
    "learning_rate=0.01"
   ]
  },
  {
   "cell_type": "markdown",
   "metadata": {},
   "source": [
    "**Exercise :** Create variables `theta_final`, `cost_history` and instance `gradient_descent()`."
   ]
  },
  {
   "cell_type": "code",
   "execution_count": 173,
   "metadata": {},
   "outputs": [],
   "source": [
    "theta_final, cost_history=gradient_descent(X,y,theta,learning_rate,n_iterations)"
   ]
  },
  {
   "cell_type": "markdown",
   "metadata": {},
   "source": [
    "**Exercise :** Create a `predictions` variable that contains `model(X, theta_final)`.\n"
   ]
  },
  {
   "cell_type": "code",
   "execution_count": 178,
   "metadata": {},
   "outputs": [
    {
     "data": {
      "text/plain": [
       "(200, 1)"
      ]
     },
     "execution_count": 178,
     "metadata": {},
     "output_type": "execute_result"
    }
   ],
   "source": [
    "predictions=model(X,theta_final)\n",
    "predictions.shape"
   ]
  },
  {
   "cell_type": "code",
   "execution_count": 175,
   "metadata": {},
   "outputs": [],
   "source": [
    "X_seq = np.linspace(np.amin(X),np.amax(X),300).reshape(-1,1)"
   ]
  },
  {
   "cell_type": "markdown",
   "metadata": {},
   "source": [
    "**Exercise :** Project your predictions and the true values of the dataset"
   ]
  },
  {
   "cell_type": "code",
   "execution_count": 179,
   "metadata": {},
   "outputs": [
    {
     "data": {
      "text/plain": [
       "<matplotlib.collections.PathCollection at 0x7fbcb4045850>"
      ]
     },
     "execution_count": 179,
     "metadata": {},
     "output_type": "execute_result"
    },
    {
     "data": {
      "image/png": "[encoded data removed]",
      "text/plain": [
       "<Figure size 432x288 with 1 Axes>"
      ]
     },
     "metadata": {
      "needs_background": "light"
     },
     "output_type": "display_data"
    }
   ],
   "source": [
    "import matplotlib.pyplot as plt\n",
    "plt.xlabel(\"Year of Experience\", fontsize=18)\n",
    "plt.ylabel(\"Salary\", rotation=0, fontsize=18)\n",
    "plt.title(\"Salary VS Experience (Training set)\")\n",
    "plt.scatter(x, y, color='blue')\n",
    "plt.scatter(x, predictions, color='red')"
   ]
  },
  {
   "cell_type": "markdown",
   "metadata": {},
   "source": [
    "It says it looks like this."
   ]
  },
  {
   "cell_type": "markdown",
   "metadata": {},
   "source": [
    "<img src=\"./assets/poly3.JPG\" />"
   ]
  },
  {
   "cell_type": "markdown",
   "metadata": {},
   "source": [
    "**Exercise :** Plot cost_history"
   ]
  },
  {
   "cell_type": "code",
   "execution_count": 180,
   "metadata": {},
   "outputs": [
    {
     "data": {
      "text/plain": [
       "[<matplotlib.lines.Line2D at 0x7fbcb4020f50>]"
      ]
     },
     "execution_count": 180,
     "metadata": {},
     "output_type": "execute_result"
    },
    {
     "data": {
      "image/png": "[encoded data removed]",
      "text/plain": [
       "<Figure size 432x288 with 1 Axes>"
      ]
     },
     "metadata": {
      "needs_background": "light"
     },
     "output_type": "display_data"
    }
   ],
   "source": [
    "plt.plot(range(n_iterations), cost_history)"
   ]
  },
  {
   "cell_type": "code",
   "execution_count": 181,
   "metadata": {},
   "outputs": [],
   "source": [
    "def coef_determination(y, pred):\n",
    "    u = ((y - pred)**2).sum()\n",
    "    v = ((y - y.mean())**2).sum()\n",
    "    return 1 - u/v"
   ]
  },
  {
   "cell_type": "code",
   "execution_count": 182,
   "metadata": {},
   "outputs": [
    {
     "data": {
      "text/plain": [
       "0.9109532257458979"
      ]
     },
     "execution_count": 182,
     "metadata": {},
     "output_type": "execute_result"
    }
   ],
   "source": [
    "coef_determination(y, predictions)"
   ]
  },
  {
   "cell_type": "markdown",
   "metadata": {},
   "source": [
    "**Exercise :** Try to improve your model by adding a degree to your polynomial model."
   ]
  },
  {
   "cell_type": "code",
   "execution_count": 192,
   "metadata": {},
   "outputs": [
    {
     "data": {
      "text/plain": [
       "array([[ 3.02471898e-01,  9.14892489e-02,  2.76729267e-02,\n",
       "         8.37028267e-03],\n",
       "       [-1.27048500e+00,  1.61413213e+00, -2.05073066e+00,\n",
       "         2.60542254e+00],\n",
       "       [ 1.53277921e+00,  2.34941212e+00,  3.60113006e+00,\n",
       "         5.51973731e+00],\n",
       "       [-1.60205766e+00,  2.56658873e+00, -4.11182313e+00,\n",
       "         6.58737772e+00],\n",
       "       [ 1.13940068e+00,  1.29823392e+00,  1.47920862e+00,\n",
       "         1.68541131e+00],\n",
       "       [-5.09652182e-01,  2.59745346e-01, -1.32379782e-01,\n",
       "         6.74676450e-02],\n",
       "       [ 4.07461836e-01,  1.66025148e-01,  6.76489117e-02,\n",
       "         2.75643498e-02],\n",
       "       [ 7.61037725e-01,  5.79178419e-01,  4.40776627e-01,\n",
       "         3.35447641e-01],\n",
       "       [ 4.43863233e-01,  1.97014569e-01,  8.74475237e-02,\n",
       "         3.88147405e-02],\n",
       "       [ 3.78162520e-01,  1.43006891e-01,  5.40798463e-02,\n",
       "         2.04509709e-02],\n",
       "       [-1.45436567e+00,  2.11517952e+00, -3.07624448e+00,\n",
       "         4.47398438e+00],\n",
       "       [-1.07075262e+00,  1.14651118e+00, -1.22762985e+00,\n",
       "         1.31448788e+00],\n",
       "       [-4.13618981e-01,  1.71080661e-01, -7.07622087e-02,\n",
       "         2.92685927e-02],\n",
       "       [ 1.92294203e+00,  3.69770604e+00,  7.11047434e+00,\n",
       "         1.36730299e+01],\n",
       "       [-8.95466561e-01,  8.01860362e-01, -7.18039141e-01,\n",
       "         6.42980040e-01],\n",
       "       [-3.87326817e-01,  1.50022063e-01, -5.81075684e-02,\n",
       "         2.25066195e-02],\n",
       "       [-1.54477110e+00,  2.38631774e+00, -3.68631467e+00,\n",
       "         5.69451236e+00],\n",
       "       [-8.03409664e-01,  6.45467088e-01, -5.18574497e-01,\n",
       "         4.16627762e-01],\n",
       "       [-4.55532504e-01,  2.07509862e-01, -9.45274868e-02,\n",
       "         4.30603427e-02],\n",
       "       [-5.10805138e-01,  2.60921889e-01, -1.33280241e-01,\n",
       "         6.80802319e-02],\n",
       "       [ 1.66673495e-01,  2.77800541e-02,  4.63019871e-03,\n",
       "         7.71731404e-04],\n",
       "       [ 9.22206672e-01,  8.50465145e-01,  7.84304631e-01,\n",
       "         7.23290963e-01],\n",
       "       [ 1.17877957e+00,  1.38952128e+00,  1.63793930e+00,\n",
       "         1.93076938e+00],\n",
       "       [-6.74332661e-01,  4.54724537e-01, -3.06635607e-01,\n",
       "         2.06774405e-01],\n",
       "       [-5.78849665e-01,  3.35066934e-01, -1.93953383e-01,\n",
       "         1.12269851e-01],\n",
       "       [ 1.89588918e+00,  3.59439577e+00,  6.81457603e+00,\n",
       "         1.29196809e+01],\n",
       "       [ 4.39391701e-01,  1.93065067e-01,  8.48311883e-02,\n",
       "         3.72741201e-02],\n",
       "       [-6.34322094e-01,  4.02364519e-01, -2.55228704e-01,\n",
       "         1.61897206e-01],\n",
       "       [-1.63019835e+00,  2.65754665e+00, -4.33232816e+00,\n",
       "         7.06255420e+00],\n",
       "       [ 2.24089320e+00,  5.02160233e+00,  1.12528745e+01,\n",
       "         2.52164900e+01],\n",
       "       [-4.37820045e-01,  1.91686392e-01, -8.39241445e-02,\n",
       "         3.67436727e-02],\n",
       "       [-1.70627019e+00,  2.91135796e+00, -4.96756331e+00,\n",
       "         8.47600519e+00],\n",
       "       [ 1.48051479e+00,  2.19192405e+00,  3.24517597e+00,\n",
       "         4.80453103e+00],\n",
       "       [ 3.56366397e-01,  1.26997009e-01,  4.52574666e-02,\n",
       "         1.61282403e-02],\n",
       "       [-1.34775906e+00,  1.81645449e+00, -2.44814299e+00,\n",
       "         3.29950690e+00],\n",
       "       [ 1.44043571e-01,  2.07485504e-02,  2.98869529e-03,\n",
       "         4.30502343e-04],\n",
       "       [ 1.32638590e+00,  1.75929955e+00,  2.33351011e+00,\n",
       "         3.09513490e+00],\n",
       "       [ 2.16323595e+00,  4.67958977e+00,  1.01230568e+01,\n",
       "         2.18985604e+01],\n",
       "       [ 6.53618595e-01,  4.27217268e-01,  2.79237151e-01,\n",
       "         1.82514594e-01],\n",
       "       [-1.00021535e+00,  1.00043074e+00, -1.00064618e+00,\n",
       "         1.00086167e+00],\n",
       "       [-6.43618403e-01,  4.14244648e-01, -2.66615479e-01,\n",
       "         1.71598629e-01],\n",
       "       [-8.26438539e-01,  6.83000658e-01, -5.64458066e-01,\n",
       "         4.66489899e-01],\n",
       "       [-1.22543552e+00,  1.50169221e+00, -1.84022697e+00,\n",
       "         2.25507950e+00],\n",
       "       [-2.12740280e-01,  4.52584268e-02, -9.62829040e-03,\n",
       "         2.04832520e-03],\n",
       "       [ 7.29090562e-01,  5.31573048e-01,  3.87564892e-01,\n",
       "         2.82569905e-01],\n",
       "       [-1.49634540e-01,  2.23904957e-02, -3.35039153e-03,\n",
       "         5.01334296e-04],\n",
       "       [-1.98079647e+00,  3.92355465e+00, -7.77176319e+00,\n",
       "         1.53942811e+01],\n",
       "       [ 5.76590817e-01,  3.32456970e-01,  1.91691636e-01,\n",
       "         1.10527637e-01],\n",
       "       [ 5.23276661e-01,  2.73818463e-01,  1.43282811e-01,\n",
       "         7.49765509e-02],\n",
       "       [-4.38074302e-01,  1.91909094e-01, -8.40704422e-02,\n",
       "         3.68291003e-02],\n",
       "       [ 2.67050869e-01,  7.13161668e-02,  1.90450443e-02,\n",
       "         5.08599565e-03],\n",
       "       [-1.09940079e+00,  1.20868210e+00, -1.32882605e+00,\n",
       "         1.46091241e+00],\n",
       "       [-2.08298756e-01,  4.33883716e-02, -9.03774381e-03,\n",
       "         1.88255079e-03],\n",
       "       [ 6.25231451e-01,  3.90914367e-01,  2.44411957e-01,\n",
       "         1.52814043e-01],\n",
       "       [-1.25279536e+00,  1.56949621e+00, -1.96625757e+00,\n",
       "         2.46331837e+00],\n",
       "       [-1.29285691e+00,  1.67147899e+00, -2.16098316e+00,\n",
       "         2.79384201e+00],\n",
       "       [-6.35846078e-01,  4.04300235e-01, -2.57072719e-01,\n",
       "         1.63458680e-01],\n",
       "       [-1.23482582e+00,  1.52479481e+00, -1.88285600e+00,\n",
       "         2.32499920e+00],\n",
       "       [-2.05158264e-01,  4.20899132e-02, -8.63509351e-03,\n",
       "         1.77156079e-03],\n",
       "       [ 1.78587049e+00,  3.18933342e+00,  5.69573645e+00,\n",
       "         1.01718477e+01],\n",
       "       [-1.31590741e+00,  1.73161231e+00, -2.27864147e+00,\n",
       "         2.99848120e+00],\n",
       "       [ 3.33674327e-01,  1.11338557e-01,  3.71508180e-02,\n",
       "         1.23962742e-02],\n",
       "       [ 4.28331871e-01,  1.83468191e-01,  7.85852736e-02,\n",
       "         3.36605772e-02],\n",
       "       [ 2.26975462e+00,  5.15178605e+00,  1.16932902e+01,\n",
       "         2.65408995e+01],\n",
       "       [-6.89549778e-01,  4.75478896e-01, -3.27866367e-01,\n",
       "         2.26080181e-01],\n",
       "       [ 4.57585173e-02,  2.09384191e-03,  9.58111011e-05,\n",
       "         4.38417393e-06],\n",
       "       [-1.72628260e+00,  2.98005162e+00, -5.14441127e+00,\n",
       "         8.88070768e+00],\n",
       "       [ 9.49420807e-01,  9.01399869e-01,  8.55807791e-01,\n",
       "         8.12521723e-01],\n",
       "       [ 2.38314477e+00,  5.67937902e+00,  1.35347824e+01,\n",
       "         3.22553460e+01],\n",
       "       [ 6.72294757e-01,  4.51980240e-01,  3.03863946e-01,\n",
       "         2.04286138e-01],\n",
       "       [-4.01780936e-01,  1.61427921e-01, -6.48586611e-02,\n",
       "         2.60589736e-02],\n",
       "       [-6.84810091e-01,  4.68964861e-01, -3.21151869e-01,\n",
       "         2.19928041e-01],\n",
       "       [-3.02302751e-01,  9.13869530e-02, -2.76265273e-02,\n",
       "         8.35157518e-03],\n",
       "       [ 1.49407907e+00,  2.23227228e+00,  3.33519129e+00,\n",
       "         4.98303952e+00],\n",
       "       [-1.09306151e+00,  1.19478346e+00, -1.30597181e+00,\n",
       "         1.42750752e+00],\n",
       "       [-4.98032451e-01,  2.48036322e-01, -1.23530137e-01,\n",
       "         6.15220170e-02],\n",
       "       [-1.17312341e+00,  1.37621852e+00, -1.61447416e+00,\n",
       "         1.89397742e+00],\n",
       "       [ 1.71334272e+00,  2.93554328e+00,  5.02959172e+00,\n",
       "         8.61741436e+00],\n",
       "       [ 1.33652795e+00,  1.78630696e+00,  2.38744918e+00,\n",
       "         3.19089255e+00],\n",
       "       [ 4.65662440e-01,  2.16841508e-01,  1.00974946e-01,\n",
       "         4.70202395e-02],\n",
       "       [-4.35153552e-01,  1.89358614e-01, -8.24000732e-02,\n",
       "         3.58566845e-02],\n",
       "       [-1.42001794e+00,  2.01645094e+00, -2.86339651e+00,\n",
       "         4.06607440e+00],\n",
       "       [-6.72460448e-01,  4.52203054e-01, -3.04088668e-01,\n",
       "         2.04487602e-01],\n",
       "       [-6.63478286e-01,  4.40203436e-01, -2.92065422e-01,\n",
       "         1.93779065e-01],\n",
       "       [ 9.20858824e-01,  8.47980973e-01,  7.80870762e-01,\n",
       "         7.19071731e-01],\n",
       "       [-2.55298982e+00,  6.51775700e+00, -1.66397672e+01,\n",
       "         4.24811563e+01],\n",
       "       [ 1.86755799e+00,  3.48777285e+00,  6.51361805e+00,\n",
       "         1.21645594e+01],\n",
       "       [ 4.01989363e-01,  1.61595448e-01,  6.49596514e-02,\n",
       "         2.61130889e-02],\n",
       "       [-6.51025593e-01,  4.23834323e-01, -2.75926992e-01,\n",
       "         1.79635533e-01],\n",
       "       [-6.94567860e-01,  4.82424512e-01, -3.35076561e-01,\n",
       "         2.32733410e-01],\n",
       "       [-1.03424284e+00,  1.06965826e+00, -1.10628639e+00,\n",
       "         1.14416878e+00],\n",
       "       [-2.22340315e+00,  4.94352158e+00, -1.09914415e+01,\n",
       "         2.44384056e+01],\n",
       "       [ 1.12663592e+00,  1.26930850e+00,  1.43004855e+00,\n",
       "         1.61114407e+00],\n",
       "       [ 1.46935877e+00,  2.15901519e+00,  3.17236791e+00,\n",
       "         4.66134661e+00],\n",
       "       [ 4.00157208e-01,  1.60125791e-01,  6.40754897e-02,\n",
       "         2.56402691e-02],\n",
       "       [ 5.19453958e-02,  2.69832414e-03,  1.40165516e-04,\n",
       "         7.28095319e-06],\n",
       "       [-7.47454811e-01,  5.58688695e-01, -4.17594553e-01,\n",
       "         3.12133058e-01],\n",
       "       [ 8.44362976e-01,  7.12948836e-01,  6.01987601e-01,\n",
       "         5.08296043e-01],\n",
       "       [-1.03218852e-01,  1.06541314e-02, -1.09970721e-03,\n",
       "         1.13510515e-04],\n",
       "       [-8.54095739e-01,  7.29479532e-01, -6.23045360e-01,\n",
       "         5.32140387e-01],\n",
       "       [-3.53993911e-01,  1.25311689e-01, -4.43595750e-02,\n",
       "         1.57030195e-02],\n",
       "       [-1.18063218e+00,  1.39389235e+00, -1.64567417e+00,\n",
       "         1.94293590e+00],\n",
       "       [-9.07298364e-01,  8.23190322e-01, -7.46879233e-01,\n",
       "         6.77642306e-01],\n",
       "       [ 3.16942612e-01,  1.00452619e-01,  3.18377155e-02,\n",
       "         1.00907287e-02],\n",
       "       [ 1.18802979e+00,  1.41141479e+00,  1.67680282e+00,\n",
       "         1.99209170e+00],\n",
       "       [-7.69916074e-01,  5.92770762e-01, -4.56383738e-01,\n",
       "         3.51377176e-01],\n",
       "       [ 1.56348969e-01,  2.44450001e-02,  3.82195057e-03,\n",
       "         5.97558032e-04],\n",
       "       [ 9.00826487e-01,  8.11488360e-01,  7.31010208e-01,\n",
       "         6.58513358e-01],\n",
       "       [-2.81822283e-02,  7.94237994e-04, -2.23833965e-05,\n",
       "         6.30813991e-07],\n",
       "       [-3.47912149e-01,  1.21042864e-01, -4.21122829e-02,\n",
       "         1.46513748e-02],\n",
       "       [ 8.56830612e-01,  7.34158697e-01,  6.29049646e-01,\n",
       "         5.38988993e-01],\n",
       "       [ 2.98238174e-01,  8.89460086e-02,  2.65270952e-02,\n",
       "         7.91139244e-03],\n",
       "       [ 9.69396708e-01,  9.39729978e-01,  9.10971147e-01,\n",
       "         8.83092431e-01],\n",
       "       [-3.11552532e-01,  9.70649803e-02, -3.02408404e-02,\n",
       "         9.42161040e-03],\n",
       "       [-1.79924836e-01,  3.23729465e-02, -5.82469709e-03,\n",
       "         1.04800767e-03],\n",
       "       [ 1.45427351e+00,  2.11491143e+00,  3.07565967e+00,\n",
       "         4.47285037e+00],\n",
       "       [-2.68003371e-01,  7.18258068e-02, -1.92495584e-02,\n",
       "         5.15894653e-03],\n",
       "       [ 9.06044658e-01,  8.20916923e-01,  7.43787393e-01,\n",
       "         6.73904594e-01],\n",
       "       [-1.10438334e+00,  1.21966256e+00, -1.34697501e+00,\n",
       "         1.48757676e+00],\n",
       "       [-1.87183850e-01,  3.50377937e-02, -6.55850912e-03,\n",
       "         1.22764699e-03],\n",
       "       [ 9.44479487e-01,  8.92041501e-01,  8.42514900e-01,\n",
       "         7.95738040e-01],\n",
       "       [ 6.14079370e-01,  3.77093473e-01,  2.31565323e-01,\n",
       "         1.42199487e-01],\n",
       "       [ 1.54947426e-01,  2.40087047e-02,  3.72008699e-03,\n",
       "         5.76417903e-04],\n",
       "       [ 1.26912093e-01,  1.61066793e-02,  2.04413237e-03,\n",
       "         2.59425117e-04],\n",
       "       [ 8.64436199e-01,  7.47249942e-01,  6.45949899e-01,\n",
       "         5.58382476e-01],\n",
       "       [-1.51357208e-01,  2.29090045e-02, -3.46744297e-03,\n",
       "         5.24822487e-04],\n",
       "       [ 1.86755896e+00,  3.48777647e+00,  6.51362820e+00,\n",
       "         1.21645847e+01],\n",
       "       [ 1.22244507e+00,  1.49437195e+00,  1.82678762e+00,\n",
       "         2.23314753e+00],\n",
       "       [-7.42165020e-01,  5.50808918e-01, -4.08791112e-01,\n",
       "         3.03390464e-01],\n",
       "       [-9.12822225e-01,  8.33244415e-01, -7.60604021e-01,\n",
       "         6.94296256e-01],\n",
       "       [ 1.28982911e-01,  1.66365913e-02,  2.14583597e-03,\n",
       "         2.76776169e-04],\n",
       "       [ 1.54301460e+00,  2.38089404e+00,  3.67375426e+00,\n",
       "         5.66865644e+00],\n",
       "       [-1.71546331e-01,  2.94281438e-02, -5.04829010e-03,\n",
       "         8.66015645e-04],\n",
       "       [-1.55010093e-01,  2.40281290e-02, -3.72460251e-03,\n",
       "         5.77350981e-04],\n",
       "       [ 6.81594518e-01,  4.64571087e-01,  3.16649106e-01,\n",
       "         2.15826295e-01],\n",
       "       [ 8.75512414e-02,  7.66521987e-03,  6.71099515e-04,\n",
       "         5.87555956e-05],\n",
       "       [ 6.65172224e-02,  4.42454087e-03,  2.94308169e-04,\n",
       "         1.95765619e-05],\n",
       "       [-3.92828182e-02,  1.54313981e-03, -6.06188806e-05,\n",
       "         2.38128047e-06],\n",
       "       [ 1.48825219e+00,  2.21489459e+00,  3.29632174e+00,\n",
       "         4.90575806e+00],\n",
       "       [-8.61225685e-01,  7.41709681e-01, -6.38779428e-01,\n",
       "         5.50133250e-01],\n",
       "       [ 4.62782256e-01,  2.14167416e-01,  9.91128799e-02,\n",
       "         4.58676821e-02],\n",
       "       [-3.59553162e-01,  1.29278476e-01, -4.64824848e-02,\n",
       "         1.67129244e-02],\n",
       "       [ 5.39249191e-01,  2.90789690e-01,  1.56808105e-01,\n",
       "         8.45586440e-02],\n",
       "       [ 4.02341641e-01,  1.61878796e-01,  6.51305805e-02,\n",
       "         2.62047447e-02],\n",
       "       [ 1.76405235e+00,  3.11188068e+00,  5.48952041e+00,\n",
       "         9.68380136e+00],\n",
       "       [-1.16514984e+00,  1.35757415e+00, -1.58177731e+00,\n",
       "         1.84300758e+00],\n",
       "       [ 6.76433295e-01,  4.57562003e-01,  3.09510173e-01,\n",
       "         2.09362986e-01],\n",
       "       [ 1.92953205e+00,  3.72309395e+00,  7.18382911e+00,\n",
       "         1.38614285e+01],\n",
       "       [-7.44754822e-01,  5.54659745e-01, -4.13085520e-01,\n",
       "         3.07647433e-01],\n",
       "       [ 1.74791590e-02,  3.05521000e-04,  5.34025015e-06,\n",
       "         9.33430816e-08],\n",
       "       [-9.77277880e-01,  9.55072054e-01, -9.33370793e-01,\n",
       "         9.12162629e-01],\n",
       "       [ 1.84926373e+00,  3.41977634e+00,  6.32406834e+00,\n",
       "         1.16948702e+01],\n",
       "       [-1.53624369e+00,  2.36004466e+00, -3.62560371e+00,\n",
       "         5.56981081e+00],\n",
       "       [ 1.23029068e+00,  1.51361516e+00,  1.86218662e+00,\n",
       "         2.29103085e+00],\n",
       "       [ 3.18727653e-01,  1.01587317e-01,  3.23786870e-02,\n",
       "         1.03199829e-02],\n",
       "       [ 1.11701629e+00,  1.24772539e+00,  1.39372958e+00,\n",
       "         1.55681864e+00],\n",
       "       [-6.82416053e-02,  4.65691670e-03, -3.17795471e-04,\n",
       "         2.16868731e-05],\n",
       "       [-4.03176947e-01,  1.62551651e-01, -6.55370782e-02,\n",
       "         2.64230391e-02],\n",
       "       [ 7.71790551e-01,  5.95660655e-01,  4.59725265e-01,\n",
       "         3.54811616e-01],\n",
       "       [ 1.77426142e-01,  3.14800360e-02,  5.58538134e-03,\n",
       "         9.90992664e-04],\n",
       "       [ 9.76639036e-01,  9.53823808e-01,  9.31541564e-01,\n",
       "         9.09779856e-01],\n",
       "       [-1.49125759e+00,  2.22384921e+00, -3.31633202e+00,\n",
       "         4.94550530e+00],\n",
       "       [ 3.96006713e-01,  1.56821316e-01,  6.21022940e-02,\n",
       "         2.45929253e-02],\n",
       "       [-7.39562996e-01,  5.46953426e-01, -4.04506514e-01,\n",
       "         2.99158050e-01],\n",
       "       [-8.87785748e-01,  7.88163534e-01, -6.99720352e-01,\n",
       "         6.21201756e-01],\n",
       "       [ 1.05000207e-02,  1.10250435e-04,  1.15763185e-06,\n",
       "         1.21551584e-08],\n",
       "       [ 7.06573168e-01,  4.99245642e-01,  3.52753575e-01,\n",
       "         2.49246211e-01],\n",
       "       [ 1.91006495e+00,  3.64834813e+00,  6.96858189e+00,\n",
       "         1.33104440e+01],\n",
       "       [-3.62741166e-01,  1.31581154e-01, -4.77299010e-02,\n",
       "         1.73136000e-02],\n",
       "       [ 1.20237985e+00,  1.44571730e+00,  1.73830135e+00,\n",
       "         2.09009851e+00],\n",
       "       [ 6.35031437e-01,  4.03264926e-01,  2.56085905e-01,\n",
       "         1.62622600e-01],\n",
       "       [-1.16809350e+00,  1.36444242e+00, -1.59379632e+00,\n",
       "         1.86170312e+00],\n",
       "       [-1.14746865e+00,  1.31668431e+00, -1.51085397e+00,\n",
       "         1.73365757e+00],\n",
       "       [-9.84525244e-02,  9.69289957e-03, -9.54290431e-04,\n",
       "         9.39523020e-05],\n",
       "       [-1.04855297e+00,  1.09946332e+00, -1.15284552e+00,\n",
       "         1.20881959e+00],\n",
       "       [-1.61389785e+00,  2.60466626e+00, -4.20366527e+00,\n",
       "         6.78428634e+00],\n",
       "       [ 1.88315070e+00,  3.54625655e+00,  6.67813549e+00,\n",
       "         1.25759355e+01],\n",
       "       [ 9.50088418e-01,  9.02668001e-01,  8.57614413e-01,\n",
       "         8.14809520e-01],\n",
       "       [ 1.94362119e+00,  3.77766331e+00,  7.34234645e+00,\n",
       "         1.42707401e+01],\n",
       "       [ 2.08274978e-01,  4.33784665e-02,  9.03464916e-03,\n",
       "         1.88169136e-03],\n",
       "       [ 1.21675016e-01,  1.48048096e-02,  1.80137546e-03,\n",
       "         2.19182388e-04],\n",
       "       [ 1.05445173e+00,  1.11186844e+00,  1.17241160e+00,\n",
       "         1.23625144e+00],\n",
       "       [ 3.13067702e-01,  9.80113858e-02,  3.06841993e-02,\n",
       "         9.60623175e-03],\n",
       "       [ 3.76425531e-01,  1.41696181e-01,  5.33380600e-02,\n",
       "         2.00778076e-02],\n",
       "       [-4.61584605e-01,  2.13060347e-01, -9.83453763e-02,\n",
       "         4.53947116e-02],\n",
       "       [ 5.21650793e-02,  2.72119549e-03,  1.41951379e-04,\n",
       "         7.40490492e-06],\n",
       "       [ 7.77490356e-01,  6.04491253e-01,  4.69986120e-01,\n",
       "         3.65409675e-01],\n",
       "       [ 8.23504154e-01,  6.78159092e-01,  5.58466829e-01,\n",
       "         4.59899754e-01],\n",
       "       [-8.13146282e-01,  6.61206876e-01, -5.37657913e-01,\n",
       "         4.37194533e-01],\n",
       "       [ 5.61653422e-02,  3.15454567e-03,  1.77176137e-04,\n",
       "         9.95115837e-06],\n",
       "       [ 1.95077540e+00,  3.80552464e+00,  7.42372384e+00,\n",
       "         1.44820178e+01],\n",
       "       [-1.37495129e+00,  1.89049106e+00, -2.59933313e+00,\n",
       "         3.57395645e+00],\n",
       "       [ 9.47251968e-01,  8.97286290e-01,  8.49956204e-01,\n",
       "         8.05122687e-01],\n",
       "       [ 3.18305583e-02,  1.01318444e-03,  3.22502264e-05,\n",
       "         1.02654271e-06],\n",
       "       [ 8.02456396e-01,  6.43936267e-01,  5.16730776e-01,\n",
       "         4.14653916e-01],\n",
       "       [ 4.10598502e-01,  1.68591130e-01,  6.92232653e-02,\n",
       "         2.84229690e-02],\n",
       "       [-1.07993151e+00,  1.16625206e+00, -1.25947235e+00,\n",
       "         1.36014387e+00],\n",
       "       [-8.70797149e-01,  7.58287675e-01, -6.60314746e-01,\n",
       "         5.75000198e-01],\n",
       "       [ 9.78737984e-01,  9.57928042e-01,  9.37560560e-01,\n",
       "         9.17626133e-01],\n",
       "       [ 3.86902498e-01,  1.49693543e-01,  5.79168056e-02,\n",
       "         2.24081568e-02]])"
      ]
     },
     "execution_count": 192,
     "metadata": {},
     "output_type": "execute_result"
    }
   ],
   "source": [
    "from sklearn.preprocessing import PolynomialFeatures\n",
    "trans = PolynomialFeatures(degree=4,include_bias=False)\n",
    "x_d4 = trans.fit_transform(x)\n",
    "x_d4"
   ]
  },
  {
   "cell_type": "code",
   "execution_count": 193,
   "metadata": {},
   "outputs": [],
   "source": [
    "X=np.hstack((x_d4, np.ones((x.shape[0],1))))"
   ]
  },
  {
   "cell_type": "code",
   "execution_count": 194,
   "metadata": {},
   "outputs": [],
   "source": [
    "theta=np.random.randn(5,1)"
   ]
  },
  {
   "cell_type": "code",
   "execution_count": 195,
   "metadata": {},
   "outputs": [],
   "source": [
    "theta_final, cost_history=gradient_descent(X,y,theta,learning_rate,n_iterations)"
   ]
  },
  {
   "cell_type": "code",
   "execution_count": 196,
   "metadata": {},
   "outputs": [
    {
     "data": {
      "text/plain": [
       "(200, 1)"
      ]
     },
     "execution_count": 196,
     "metadata": {},
     "output_type": "execute_result"
    }
   ],
   "source": [
    "predictions=model(X,theta_final)\n",
    "predictions.shape"
   ]
  },
  {
   "cell_type": "code",
   "execution_count": 197,
   "metadata": {},
   "outputs": [],
   "source": [
    "X_seq = np.linspace(np.amin(X),np.amax(X),300).reshape(-1,1)"
   ]
  },
  {
   "cell_type": "code",
   "execution_count": 198,
   "metadata": {},
   "outputs": [
    {
     "data": {
      "text/plain": [
       "<matplotlib.collections.PathCollection at 0x7fbcacef34d0>"
      ]
     },
     "execution_count": 198,
     "metadata": {},
     "output_type": "execute_result"
    },
    {
     "data": {
      "image/png": "[encoded data removed]",
      "text/plain": [
       "<Figure size 432x288 with 1 Axes>"
      ]
     },
     "metadata": {
      "needs_background": "light"
     },
     "output_type": "display_data"
    }
   ],
   "source": [
    "import matplotlib.pyplot as plt\n",
    "plt.xlabel(\"Year of Experience\", fontsize=18)\n",
    "plt.ylabel(\"Salary\", rotation=0, fontsize=18)\n",
    "plt.title(\"Salary VS Experience (Training set)\")\n",
    "plt.scatter(x, y, color='blue')\n",
    "plt.scatter(x, predictions, color='red')"
   ]
  },
  {
   "cell_type": "code",
   "execution_count": 199,
   "metadata": {},
   "outputs": [
    {
     "data": {
      "text/plain": [
       "[<matplotlib.lines.Line2D at 0x7fbcace51d50>]"
      ]
     },
     "execution_count": 199,
     "metadata": {},
     "output_type": "execute_result"
    },
    {
     "data": {
      "image/png": "[encoded data removed]",
      "text/plain": [
       "<Figure size 432x288 with 1 Axes>"
      ]
     },
     "metadata": {
      "needs_background": "light"
     },
     "output_type": "display_data"
    }
   ],
   "source": [
    "plt.plot(range(n_iterations), cost_history)"
   ]
  },
  {
   "cell_type": "code",
   "execution_count": 200,
   "metadata": {},
   "outputs": [
    {
     "data": {
      "text/plain": [
       "0.9120791513164981"
      ]
     },
     "execution_count": 200,
     "metadata": {},
     "output_type": "execute_result"
    }
   ],
   "source": [
    "coef_determination(y, predictions)"
   ]
  },
  {
   "cell_type": "code",
   "execution_count": null,
   "metadata": {},
   "outputs": [],
   "source": []
  },
  {
   "cell_type": "code",
   "execution_count": null,
   "metadata": {},
   "outputs": [],
   "source": []
  },
  {
   "cell_type": "code",
   "execution_count": null,
   "metadata": {},
   "outputs": [],
   "source": []
  },
  {
   "cell_type": "code",
   "execution_count": null,
   "metadata": {},
   "outputs": [],
   "source": []
  },
  {
   "cell_type": "markdown",
   "metadata": {},
   "source": [
    "Good, you must feel like this now: "
   ]
  },
  {
   "cell_type": "markdown",
   "metadata": {},
   "source": [
    "![](https://media.giphy.com/media/DHqth0hVQoIzS/giphy.gif)"
   ]
  },
  {
   "cell_type": "markdown",
   "metadata": {},
   "source": [
    "## Where to go next ? \n",
    "Linear models might look simple but they can get very complicated.\n",
    "You might look into **Ridge Regression** or **Lasso Regression** if you want to further deepen your knowledge.\n",
    "\n",
    "- [Statquest - Regularization explained (Lasso & Ridge)](https://youtu.be/Q81RR3yKn30)"
   ]
  }
 ],
 "metadata": {
  "kernelspec": {
   "display_name": "Python 3",
   "language": "python",
   "name": "python3"
  },
  "language_info": {
   "codemirror_mode": {
    "name": "ipython",
    "version": 3
   },
   "file_extension": ".py",
   "mimetype": "text/x-python",
   "name": "python",
   "nbconvert_exporter": "python",
   "pygments_lexer": "ipython3",
   "version": "3.7.6"
  }
 },
 "nbformat": 4,
 "nbformat_minor": 4
}
