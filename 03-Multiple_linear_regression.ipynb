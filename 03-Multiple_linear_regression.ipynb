{
 "cells": [
  {
   "cell_type": "markdown",
   "metadata": {},
   "source": [
    "# Multiple linear regression."
   ]
  },
  {
   "cell_type": "markdown",
   "metadata": {},
   "source": [
    "Unlike the simple linear regression model, the multiple linear regression model is defined as any linear regression model with at least two explanatory variables. But what do we do when we have several variables? This is what we will see in this chapter. And you will finally be able to measure all the power of linear regression despite its simplicity!\n",
    "\n",
    "\n",
    "## Variables studied"
   ]
  },
  {
   "cell_type": "markdown",
   "metadata": {},
   "source": [
    "First of all, we will load our dataset. This is a fake Dataset for the example. "
   ]
  },
  {
   "cell_type": "code",
   "execution_count": 54,
   "metadata": {},
   "outputs": [],
   "source": [
    "import pandas as pd\n",
    "df = pd.read_csv('/home/regis/Desktop/regression/ANT-Theano-2-27/4.machine_learning/1.Regression/data/data_multi.csv')"
   ]
  },
  {
   "cell_type": "code",
   "execution_count": 55,
   "metadata": {},
   "outputs": [
    {
     "data": {
      "text/html": [
       "<div>\n",
       "<style scoped>\n",
       "    .dataframe tbody tr th:only-of-type {\n",
       "        vertical-align: middle;\n",
       "    }\n",
       "\n",
       "    .dataframe tbody tr th {\n",
       "        vertical-align: top;\n",
       "    }\n",
       "\n",
       "    .dataframe thead th {\n",
       "        text-align: right;\n",
       "    }\n",
       "</style>\n",
       "<table border=\"1\" class=\"dataframe\">\n",
       "  <thead>\n",
       "    <tr style=\"text-align: right;\">\n",
       "      <th></th>\n",
       "      <th>x_1</th>\n",
       "      <th>x_2</th>\n",
       "      <th>y</th>\n",
       "    </tr>\n",
       "  </thead>\n",
       "  <tbody>\n",
       "    <tr>\n",
       "      <th>0</th>\n",
       "      <td>1.054452</td>\n",
       "      <td>-1.070753</td>\n",
       "      <td>-81.464433</td>\n",
       "    </tr>\n",
       "    <tr>\n",
       "      <th>1</th>\n",
       "      <td>-0.362741</td>\n",
       "      <td>-0.634322</td>\n",
       "      <td>-78.752795</td>\n",
       "    </tr>\n",
       "    <tr>\n",
       "      <th>2</th>\n",
       "      <td>-0.854096</td>\n",
       "      <td>0.313068</td>\n",
       "      <td>2.218414</td>\n",
       "    </tr>\n",
       "    <tr>\n",
       "      <th>3</th>\n",
       "      <td>1.326386</td>\n",
       "      <td>0.298238</td>\n",
       "      <td>52.234160</td>\n",
       "    </tr>\n",
       "    <tr>\n",
       "      <th>4</th>\n",
       "      <td>-0.461585</td>\n",
       "      <td>-1.315907</td>\n",
       "      <td>-159.639258</td>\n",
       "    </tr>\n",
       "    <tr>\n",
       "      <th>...</th>\n",
       "      <td>...</td>\n",
       "      <td>...</td>\n",
       "      <td>...</td>\n",
       "    </tr>\n",
       "    <tr>\n",
       "      <th>95</th>\n",
       "      <td>0.823504</td>\n",
       "      <td>0.771791</td>\n",
       "      <td>86.316340</td>\n",
       "    </tr>\n",
       "    <tr>\n",
       "      <th>96</th>\n",
       "      <td>0.976639</td>\n",
       "      <td>0.208275</td>\n",
       "      <td>83.136943</td>\n",
       "    </tr>\n",
       "    <tr>\n",
       "      <th>97</th>\n",
       "      <td>-1.347759</td>\n",
       "      <td>1.883151</td>\n",
       "      <td>157.404615</td>\n",
       "    </tr>\n",
       "    <tr>\n",
       "      <th>98</th>\n",
       "      <td>0.052165</td>\n",
       "      <td>-1.104383</td>\n",
       "      <td>-136.511136</td>\n",
       "    </tr>\n",
       "    <tr>\n",
       "      <th>99</th>\n",
       "      <td>-1.726283</td>\n",
       "      <td>-0.813146</td>\n",
       "      <td>-143.452015</td>\n",
       "    </tr>\n",
       "  </tbody>\n",
       "</table>\n",
       "<p>100 rows × 3 columns</p>\n",
       "</div>"
      ],
      "text/plain": [
       "         x_1       x_2           y\n",
       "0   1.054452 -1.070753  -81.464433\n",
       "1  -0.362741 -0.634322  -78.752795\n",
       "2  -0.854096  0.313068    2.218414\n",
       "3   1.326386  0.298238   52.234160\n",
       "4  -0.461585 -1.315907 -159.639258\n",
       "..       ...       ...         ...\n",
       "95  0.823504  0.771791   86.316340\n",
       "96  0.976639  0.208275   83.136943\n",
       "97 -1.347759  1.883151  157.404615\n",
       "98  0.052165 -1.104383 -136.511136\n",
       "99 -1.726283 -0.813146 -143.452015\n",
       "\n",
       "[100 rows x 3 columns]"
      ]
     },
     "execution_count": 55,
     "metadata": {},
     "output_type": "execute_result"
    }
   ],
   "source": [
    "df"
   ]
  },
  {
   "cell_type": "code",
   "execution_count": 56,
   "metadata": {},
   "outputs": [
    {
     "data": {
      "text/plain": [
       "(100, 3)"
      ]
     },
     "execution_count": 56,
     "metadata": {},
     "output_type": "execute_result"
    }
   ],
   "source": [
    "df.shape"
   ]
  },
  {
   "cell_type": "markdown",
   "metadata": {},
   "source": [
    "As you can see we now have 100 rows, 2 features and 1 target."
   ]
  },
  {
   "cell_type": "markdown",
   "metadata": {},
   "source": [
    "**Exercise :** Create the x and y variables and define which column will be the target and which column will be the feature. \n",
    "Variables x and y must be of type `numpy.ndarray`. Therefore, our variable x has two dimensions this time."
   ]
  },
  {
   "cell_type": "code",
   "execution_count": 57,
   "metadata": {},
   "outputs": [],
   "source": [
    "x, x_1, x_2, y = df[['x_1','x_2']].to_numpy(), df[['x_1']].to_numpy(), df[['x_2']].to_numpy(), df[['y']].to_numpy()"
   ]
  },
  {
   "cell_type": "code",
   "execution_count": 58,
   "metadata": {},
   "outputs": [
    {
     "data": {
      "text/plain": [
       "array([[ 1.05445173, -1.07075262],\n",
       "       [-0.36274117, -0.63432209],\n",
       "       [-0.85409574,  0.3130677 ],\n",
       "       [ 1.3263859 ,  0.29823817],\n",
       "       [-0.4615846 , -1.31590741],\n",
       "       [ 1.94362119, -1.17312341],\n",
       "       [-1.60205766,  0.62523145],\n",
       "       [-0.40178094,  0.17742614],\n",
       "       [-0.97727788,  1.86755799],\n",
       "       [ 0.37816252,  0.15494743],\n",
       "       [-0.30230275, -0.38732682],\n",
       "       [-0.74745481, -0.41361898],\n",
       "       [-0.18718385,  0.04575852],\n",
       "       [ 0.31872765,  0.92085882],\n",
       "       [-1.53624369,  0.46566244],\n",
       "       [ 0.40015721,  1.76405235],\n",
       "       [-0.82643854, -0.74475482],\n",
       "       [-0.74216502,  0.8644362 ],\n",
       "       [ 0.70657317,  0.3563664 ],\n",
       "       [ 0.90082649, -1.16514984],\n",
       "       [-0.57884966, -0.87079715],\n",
       "       [-0.20829876,  0.57659082],\n",
       "       [ 0.68159452, -1.03424284],\n",
       "       [ 0.8024564 , -0.26800337],\n",
       "       [ 0.77749036, -1.25279536],\n",
       "       [-1.5447711 , -1.00021535],\n",
       "       [ 0.96939671, -1.270485  ],\n",
       "       [ 0.67643329, -0.63584608],\n",
       "       [ 1.78587049,  0.01050002],\n",
       "       [ 1.5430146 , -0.739563  ],\n",
       "       [ 0.05616534, -0.31155253],\n",
       "       [-0.21274028, -1.61389785],\n",
       "       [-0.35955316, -0.67246045],\n",
       "       [-1.23482582,  1.13940068],\n",
       "       [ 0.15634897, -0.34791215],\n",
       "       [ 0.4105985 , -0.10321885],\n",
       "       [-0.15501009,  0.94725197],\n",
       "       [ 1.20237985,  1.23029068],\n",
       "       [ 0.40198936,  0.12691209],\n",
       "       [-1.07993151,  1.12663592],\n",
       "       [ 0.92220667,  0.61407937],\n",
       "       [-0.68954978, -0.80340966],\n",
       "       [-0.17154633,  0.52327666],\n",
       "       [ 0.08755124,  0.94942081],\n",
       "       [ 1.89588918,  1.48825219],\n",
       "       [-0.66347829, -0.09845252],\n",
       "       [ 1.84926373, -0.43515355],\n",
       "       [ 0.33367433,  0.44386323],\n",
       "       [-1.37495129, -0.35399391],\n",
       "       [ 1.46935877,  1.53277921],\n",
       "       [ 0.01747916, -0.4555325 ],\n",
       "       [-1.18063218, -0.51080514],\n",
       "       [ 0.26705087, -1.29285691],\n",
       "       [ 1.11701629, -0.91282223],\n",
       "       [ 1.45427351,  0.14404357],\n",
       "       [ 2.2408932 ,  0.97873798],\n",
       "       [-0.14963454, -0.69456786],\n",
       "       [ 0.90604466,  1.86755896],\n",
       "       [-1.1680935 , -0.03928282],\n",
       "       [-0.65102559,  0.85683061],\n",
       "       [-1.98079647, -0.88778575],\n",
       "       [-0.4380743 , -0.50965218],\n",
       "       [ 0.84436298, -1.22543552],\n",
       "       [ 1.22244507, -0.40317695],\n",
       "       [ 0.63503144,  0.1666735 ],\n",
       "       [ 0.3869025 , -0.89546656],\n",
       "       [-0.20515826,  1.49407907],\n",
       "       [ 0.12898291,  0.72909056],\n",
       "       [ 1.33652795,  2.16323595],\n",
       "       [ 1.9507754 , -1.70627019],\n",
       "       [ 1.48051479,  1.92294203],\n",
       "       [ 0.31694261,  1.18802979],\n",
       "       [-2.22340315, -0.6436184 ],\n",
       "       [ 1.71334272, -0.06824161],\n",
       "       [ 0.3024719 ,  0.06651722],\n",
       "       [ 0.12167502,  0.76103773],\n",
       "       [-1.42001794, -1.04855297],\n",
       "       [ 0.4393917 , -1.49125759],\n",
       "       [-0.17992484,  1.17877957],\n",
       "       [-0.68481009,  0.40234164],\n",
       "       [-1.09940079,  0.37642553],\n",
       "       [-0.15135721,  0.95008842],\n",
       "       [-0.43782004, -1.14746865],\n",
       "       [ 0.0519454 , -0.90729836],\n",
       "       [-1.09306151,  0.39600671],\n",
       "       [ 0.40746184,  0.67229476],\n",
       "       [ 0.53924919, -0.76991607],\n",
       "       [ 1.91006495, -0.86122569],\n",
       "       [ 0.42833187, -0.02818223],\n",
       "       [ 0.6536186 , -2.55298982],\n",
       "       [ 0.94447949,  2.38314477],\n",
       "       [ 0.03183056, -0.67433266],\n",
       "       [ 1.92953205, -0.49803245],\n",
       "       [-1.45436567,  2.26975462],\n",
       "       [ 0.46278226, -1.63019835],\n",
       "       [ 0.82350415,  0.77179055],\n",
       "       [ 0.97663904,  0.20827498],\n",
       "       [-1.34775906,  1.8831507 ],\n",
       "       [ 0.05216508, -1.10438334],\n",
       "       [-1.7262826 , -0.81314628]])"
      ]
     },
     "execution_count": 58,
     "metadata": {},
     "output_type": "execute_result"
    }
   ],
   "source": [
    "x"
   ]
  },
  {
   "cell_type": "code",
   "execution_count": 59,
   "metadata": {},
   "outputs": [
    {
     "data": {
      "text/plain": [
       "array([[ 1.05445173],\n",
       "       [-0.36274117],\n",
       "       [-0.85409574],\n",
       "       [ 1.3263859 ],\n",
       "       [-0.4615846 ],\n",
       "       [ 1.94362119],\n",
       "       [-1.60205766],\n",
       "       [-0.40178094],\n",
       "       [-0.97727788],\n",
       "       [ 0.37816252],\n",
       "       [-0.30230275],\n",
       "       [-0.74745481],\n",
       "       [-0.18718385],\n",
       "       [ 0.31872765],\n",
       "       [-1.53624369],\n",
       "       [ 0.40015721],\n",
       "       [-0.82643854],\n",
       "       [-0.74216502],\n",
       "       [ 0.70657317],\n",
       "       [ 0.90082649],\n",
       "       [-0.57884966],\n",
       "       [-0.20829876],\n",
       "       [ 0.68159452],\n",
       "       [ 0.8024564 ],\n",
       "       [ 0.77749036],\n",
       "       [-1.5447711 ],\n",
       "       [ 0.96939671],\n",
       "       [ 0.67643329],\n",
       "       [ 1.78587049],\n",
       "       [ 1.5430146 ],\n",
       "       [ 0.05616534],\n",
       "       [-0.21274028],\n",
       "       [-0.35955316],\n",
       "       [-1.23482582],\n",
       "       [ 0.15634897],\n",
       "       [ 0.4105985 ],\n",
       "       [-0.15501009],\n",
       "       [ 1.20237985],\n",
       "       [ 0.40198936],\n",
       "       [-1.07993151],\n",
       "       [ 0.92220667],\n",
       "       [-0.68954978],\n",
       "       [-0.17154633],\n",
       "       [ 0.08755124],\n",
       "       [ 1.89588918],\n",
       "       [-0.66347829],\n",
       "       [ 1.84926373],\n",
       "       [ 0.33367433],\n",
       "       [-1.37495129],\n",
       "       [ 1.46935877],\n",
       "       [ 0.01747916],\n",
       "       [-1.18063218],\n",
       "       [ 0.26705087],\n",
       "       [ 1.11701629],\n",
       "       [ 1.45427351],\n",
       "       [ 2.2408932 ],\n",
       "       [-0.14963454],\n",
       "       [ 0.90604466],\n",
       "       [-1.1680935 ],\n",
       "       [-0.65102559],\n",
       "       [-1.98079647],\n",
       "       [-0.4380743 ],\n",
       "       [ 0.84436298],\n",
       "       [ 1.22244507],\n",
       "       [ 0.63503144],\n",
       "       [ 0.3869025 ],\n",
       "       [-0.20515826],\n",
       "       [ 0.12898291],\n",
       "       [ 1.33652795],\n",
       "       [ 1.9507754 ],\n",
       "       [ 1.48051479],\n",
       "       [ 0.31694261],\n",
       "       [-2.22340315],\n",
       "       [ 1.71334272],\n",
       "       [ 0.3024719 ],\n",
       "       [ 0.12167502],\n",
       "       [-1.42001794],\n",
       "       [ 0.4393917 ],\n",
       "       [-0.17992484],\n",
       "       [-0.68481009],\n",
       "       [-1.09940079],\n",
       "       [-0.15135721],\n",
       "       [-0.43782004],\n",
       "       [ 0.0519454 ],\n",
       "       [-1.09306151],\n",
       "       [ 0.40746184],\n",
       "       [ 0.53924919],\n",
       "       [ 1.91006495],\n",
       "       [ 0.42833187],\n",
       "       [ 0.6536186 ],\n",
       "       [ 0.94447949],\n",
       "       [ 0.03183056],\n",
       "       [ 1.92953205],\n",
       "       [-1.45436567],\n",
       "       [ 0.46278226],\n",
       "       [ 0.82350415],\n",
       "       [ 0.97663904],\n",
       "       [-1.34775906],\n",
       "       [ 0.05216508],\n",
       "       [-1.7262826 ]])"
      ]
     },
     "execution_count": 59,
     "metadata": {},
     "output_type": "execute_result"
    }
   ],
   "source": [
    "x_1"
   ]
  },
  {
   "cell_type": "code",
   "execution_count": 60,
   "metadata": {},
   "outputs": [
    {
     "data": {
      "text/plain": [
       "array([[-1.07075262],\n",
       "       [-0.63432209],\n",
       "       [ 0.3130677 ],\n",
       "       [ 0.29823817],\n",
       "       [-1.31590741],\n",
       "       [-1.17312341],\n",
       "       [ 0.62523145],\n",
       "       [ 0.17742614],\n",
       "       [ 1.86755799],\n",
       "       [ 0.15494743],\n",
       "       [-0.38732682],\n",
       "       [-0.41361898],\n",
       "       [ 0.04575852],\n",
       "       [ 0.92085882],\n",
       "       [ 0.46566244],\n",
       "       [ 1.76405235],\n",
       "       [-0.74475482],\n",
       "       [ 0.8644362 ],\n",
       "       [ 0.3563664 ],\n",
       "       [-1.16514984],\n",
       "       [-0.87079715],\n",
       "       [ 0.57659082],\n",
       "       [-1.03424284],\n",
       "       [-0.26800337],\n",
       "       [-1.25279536],\n",
       "       [-1.00021535],\n",
       "       [-1.270485  ],\n",
       "       [-0.63584608],\n",
       "       [ 0.01050002],\n",
       "       [-0.739563  ],\n",
       "       [-0.31155253],\n",
       "       [-1.61389785],\n",
       "       [-0.67246045],\n",
       "       [ 1.13940068],\n",
       "       [-0.34791215],\n",
       "       [-0.10321885],\n",
       "       [ 0.94725197],\n",
       "       [ 1.23029068],\n",
       "       [ 0.12691209],\n",
       "       [ 1.12663592],\n",
       "       [ 0.61407937],\n",
       "       [-0.80340966],\n",
       "       [ 0.52327666],\n",
       "       [ 0.94942081],\n",
       "       [ 1.48825219],\n",
       "       [-0.09845252],\n",
       "       [-0.43515355],\n",
       "       [ 0.44386323],\n",
       "       [-0.35399391],\n",
       "       [ 1.53277921],\n",
       "       [-0.4555325 ],\n",
       "       [-0.51080514],\n",
       "       [-1.29285691],\n",
       "       [-0.91282223],\n",
       "       [ 0.14404357],\n",
       "       [ 0.97873798],\n",
       "       [-0.69456786],\n",
       "       [ 1.86755896],\n",
       "       [-0.03928282],\n",
       "       [ 0.85683061],\n",
       "       [-0.88778575],\n",
       "       [-0.50965218],\n",
       "       [-1.22543552],\n",
       "       [-0.40317695],\n",
       "       [ 0.1666735 ],\n",
       "       [-0.89546656],\n",
       "       [ 1.49407907],\n",
       "       [ 0.72909056],\n",
       "       [ 2.16323595],\n",
       "       [-1.70627019],\n",
       "       [ 1.92294203],\n",
       "       [ 1.18802979],\n",
       "       [-0.6436184 ],\n",
       "       [-0.06824161],\n",
       "       [ 0.06651722],\n",
       "       [ 0.76103773],\n",
       "       [-1.04855297],\n",
       "       [-1.49125759],\n",
       "       [ 1.17877957],\n",
       "       [ 0.40234164],\n",
       "       [ 0.37642553],\n",
       "       [ 0.95008842],\n",
       "       [-1.14746865],\n",
       "       [-0.90729836],\n",
       "       [ 0.39600671],\n",
       "       [ 0.67229476],\n",
       "       [-0.76991607],\n",
       "       [-0.86122569],\n",
       "       [-0.02818223],\n",
       "       [-2.55298982],\n",
       "       [ 2.38314477],\n",
       "       [-0.67433266],\n",
       "       [-0.49803245],\n",
       "       [ 2.26975462],\n",
       "       [-1.63019835],\n",
       "       [ 0.77179055],\n",
       "       [ 0.20827498],\n",
       "       [ 1.8831507 ],\n",
       "       [-1.10438334],\n",
       "       [-0.81314628]])"
      ]
     },
     "execution_count": 60,
     "metadata": {},
     "output_type": "execute_result"
    }
   ],
   "source": [
    "x_2"
   ]
  },
  {
   "cell_type": "code",
   "execution_count": 61,
   "metadata": {},
   "outputs": [
    {
     "data": {
      "text/plain": [
       "array([[ -81.46443256],\n",
       "       [ -78.75279511],\n",
       "       [   2.21841364],\n",
       "       [  52.23416022],\n",
       "       [-159.63925844],\n",
       "       [ -51.80600085],\n",
       "       [  82.45707052],\n",
       "       [ -10.95650889],\n",
       "       [ 184.08605329],\n",
       "       [  13.65139024],\n",
       "       [ -47.35779025],\n",
       "       [ -71.20407441],\n",
       "       [ -15.05942454],\n",
       "       [ 116.1576248 ],\n",
       "       [ -12.00536969],\n",
       "       [ 170.30565126],\n",
       "       [ -80.97261983],\n",
       "       [  70.9876416 ],\n",
       "       [  87.31109827],\n",
       "       [-104.88568957],\n",
       "       [ -87.88833348],\n",
       "       [  40.05238643],\n",
       "       [ -43.24060741],\n",
       "       [ -43.83757273],\n",
       "       [ -83.3523105 ],\n",
       "       [ -95.25314681],\n",
       "       [-111.16552786],\n",
       "       [ -38.74985337],\n",
       "       [  28.78287221],\n",
       "       [ -30.14095628],\n",
       "       [  -8.02127381],\n",
       "       [-207.68577019],\n",
       "       [-117.91250074],\n",
       "       [ 118.36250221],\n",
       "       [ -17.52468677],\n",
       "       [  21.27048262],\n",
       "       [  39.10287929],\n",
       "       [ 221.25263463],\n",
       "       [ -20.04057412],\n",
       "       [  15.90474192],\n",
       "       [ 104.32394977],\n",
       "       [ -76.73337957],\n",
       "       [  62.81281233],\n",
       "       [ 124.49121049],\n",
       "       [ 194.56190862],\n",
       "       [ -32.3369787 ],\n",
       "       [  10.58976041],\n",
       "       [  30.30410474],\n",
       "       [ -93.06345087],\n",
       "       [ 162.03717404],\n",
       "       [  -4.25329248],\n",
       "       [ -78.93288554],\n",
       "       [ -82.45604339],\n",
       "       [ -43.4715363 ],\n",
       "       [   7.83363462],\n",
       "       [ 152.43413247],\n",
       "       [ -89.07396641],\n",
       "       [ 226.95963523],\n",
       "       [ -34.9725708 ],\n",
       "       [  32.0445009 ],\n",
       "       [-143.77843204],\n",
       "       [ -75.73140902],\n",
       "       [-113.97274042],\n",
       "       [ -53.34974102],\n",
       "       [ -48.59256647],\n",
       "       [ -72.93706549],\n",
       "       [ 146.12499132],\n",
       "       [  97.33802039],\n",
       "       [ 258.23754563],\n",
       "       [-117.52036937],\n",
       "       [ 248.97382491],\n",
       "       [ 132.13061829],\n",
       "       [-141.29898231],\n",
       "       [  31.76187434],\n",
       "       [  -2.68430678],\n",
       "       [  76.03190911],\n",
       "       [-171.02794704],\n",
       "       [-118.64138257],\n",
       "       [  99.20090922],\n",
       "       [ -43.40340206],\n",
       "       [ -31.5747587 ],\n",
       "       [ 106.62850968],\n",
       "       [ -61.23520248],\n",
       "       [-120.44423135],\n",
       "       [   9.08180965],\n",
       "       [  18.48598098],\n",
       "       [ -52.64363838],\n",
       "       [ -48.81027781],\n",
       "       [  16.76808968],\n",
       "       [-199.18070494],\n",
       "       [ 315.5134693 ],\n",
       "       [ -48.21985915],\n",
       "       [   5.14702882],\n",
       "       [ 199.43685969],\n",
       "       [-130.81313889],\n",
       "       [  86.31634009],\n",
       "       [  83.13694267],\n",
       "       [ 157.40461483],\n",
       "       [-136.5111358 ],\n",
       "       [-143.45201476]])"
      ]
     },
     "execution_count": 61,
     "metadata": {},
     "output_type": "execute_result"
    }
   ],
   "source": [
    "y"
   ]
  },
  {
   "cell_type": "markdown",
   "metadata": {},
   "source": [
    "### Relationship between variables"
   ]
  },
  {
   "cell_type": "markdown",
   "metadata": {},
   "source": [
    "To represent a dataset that has two features, we can use 3D visualization."
   ]
  },
  {
   "cell_type": "markdown",
   "metadata": {},
   "source": [
    "**Exercise :** Use a 3D matplotlib (or other) graph to view the dataset. "
   ]
  },
  {
   "cell_type": "code",
   "execution_count": 62,
   "metadata": {},
   "outputs": [],
   "source": [
    "from mpl_toolkits import mplot3d"
   ]
  },
  {
   "cell_type": "code",
   "execution_count": 63,
   "metadata": {},
   "outputs": [],
   "source": [
    "%matplotlib inline\n",
    "import numpy as np\n",
    "import matplotlib.pyplot as plt"
   ]
  },
  {
   "cell_type": "code",
   "execution_count": 64,
   "metadata": {},
   "outputs": [
    {
     "data": {
      "image/png": "[encoded data removed]",
      "text/plain": [
       "<Figure size 1080x864 with 1 Axes>"
      ]
     },
     "metadata": {
      "needs_background": "light"
     },
     "output_type": "display_data"
    }
   ],
   "source": [
    "plt.figure(figsize=(15,12))\n",
    "ax = plt.axes(projection='3d')\n",
    "ax.set_xlabel('x_1')\n",
    "ax.set_ylabel('x_2')\n",
    "ax.set_zlabel('y')\n",
    "ax.scatter3D(x_1, x_2, y, c='blue');"
   ]
  },
  {
   "cell_type": "code",
   "execution_count": null,
   "metadata": {},
   "outputs": [],
   "source": []
  },
  {
   "cell_type": "code",
   "execution_count": null,
   "metadata": {},
   "outputs": [],
   "source": []
  },
  {
   "cell_type": "code",
   "execution_count": null,
   "metadata": {},
   "outputs": [],
   "source": []
  },
  {
   "cell_type": "markdown",
   "metadata": {},
   "source": [
    "If you change the camera angle, you should come across something that looks like this: \n",
    "<img src=\"./assets/3dplot.png\" />"
   ]
  },
  {
   "cell_type": "markdown",
   "metadata": {},
   "source": [
    "This appears to be a positive linear correlation. What do you say?  \n",
    "\n",
    "\n",
    "If our dataset has more than two dimensions, then we won't be able to display it in 3D. Unfortunately for us, the human being can only perceive 3 dimensions. In this case, we will have no other choice than to display one scatter plot per variable.\n",
    "\n",
    "And it is there that we realize that the linear regression may be very simple, as soon as we go beyond 3 dimensions, the human being will hardly be able to visualize all the data while the machines are doing very well.\n",
    "\n",
    "**Exercise :** Use ``plt.tight_layout()`` method to display the point clouds for each variable"
   ]
  },
  {
   "cell_type": "code",
   "execution_count": 22,
   "metadata": {},
   "outputs": [
    {
     "data": {
      "text/plain": [
       "<function matplotlib.pyplot.show(close=None, block=None)>"
      ]
     },
     "execution_count": 22,
     "metadata": {},
     "output_type": "execute_result"
    },
    {
     "data": {
      "text/plain": [
       "<Figure size 432x288 with 0 Axes>"
      ]
     },
     "metadata": {},
     "output_type": "display_data"
    }
   ],
   "source": [
    "plt.tight_layout()\n",
    "plt.show"
   ]
  },
  {
   "cell_type": "markdown",
   "metadata": {},
   "source": [
    "**Exercise :** Show correlation coefficients. "
   ]
  },
  {
   "cell_type": "code",
   "execution_count": null,
   "metadata": {},
   "outputs": [],
   "source": []
  },
  {
   "cell_type": "markdown",
   "metadata": {},
   "source": [
    "### Split the dataset\n",
    "\n",
    "You now know the process!\n",
    "\n",
    "**Exercise :** Import train_test_split from sklearn and split the dataset and create the variables X_train, X_test, y_train, y_test."
   ]
  },
  {
   "cell_type": "code",
   "execution_count": 65,
   "metadata": {},
   "outputs": [],
   "source": [
    "from sklearn.model_selection import train_test_split\n",
    "X_train, X_test, y_train, y_test = train_test_split(x, y, test_size=0.2, random_state=0)"
   ]
  },
  {
   "cell_type": "markdown",
   "metadata": {},
   "source": [
    "##  Load and fit the model (with Sklearn)"
   ]
  },
  {
   "cell_type": "markdown",
   "metadata": {},
   "source": [
    "Then how to make with the sklearn model ? Well, it's simple, you don't change anything. Sklearn takes care of everything for you.\n",
    "\n",
    "1. Import LinearRegression from sklearn\n",
    "2. Create a regressor variable and instantiate your LinearRegression class.\n",
    "3. Train your model with X_train and y_train\n",
    "4. Display the score of your model with X_train and y_train.\n",
    "5. Use the predict method of your model on your test dataset (X_test).\n",
    "6. Display the score of your model with X_test and y_test."
   ]
  },
  {
   "cell_type": "code",
   "execution_count": 66,
   "metadata": {},
   "outputs": [
    {
     "data": {
      "text/plain": [
       "LinearRegression()"
      ]
     },
     "execution_count": 66,
     "metadata": {},
     "output_type": "execute_result"
    }
   ],
   "source": [
    "from sklearn.linear_model import LinearRegression\n",
    "regressor = LinearRegression()\n",
    "regressor.fit(X_train, y_train)"
   ]
  },
  {
   "cell_type": "code",
   "execution_count": 67,
   "metadata": {},
   "outputs": [
    {
     "data": {
      "text/plain": [
       "0.9292409801653818"
      ]
     },
     "execution_count": 67,
     "metadata": {},
     "output_type": "execute_result"
    }
   ],
   "source": [
    "regressor.score(X_train,y_train)"
   ]
  },
  {
   "cell_type": "code",
   "execution_count": 68,
   "metadata": {},
   "outputs": [
    {
     "data": {
      "text/plain": [
       "array([[-100.94597064],\n",
       "       [ -63.87315175],\n",
       "       [   2.76258783],\n",
       "       [ 159.61640893],\n",
       "       [  75.84973008],\n",
       "       [ 179.3874591 ],\n",
       "       [-101.43111561],\n",
       "       [  40.21479862],\n",
       "       [  53.6888181 ],\n",
       "       [  97.50174788],\n",
       "       [ -61.11284967],\n",
       "       [   3.89238474],\n",
       "       [ 108.47100934],\n",
       "       [  97.49394257],\n",
       "       [   2.5644968 ],\n",
       "       [ -32.54247725],\n",
       "       [ -85.93659614],\n",
       "       [-104.81861659],\n",
       "       [  73.62183046],\n",
       "       [ 153.45633581]])"
      ]
     },
     "execution_count": 68,
     "metadata": {},
     "output_type": "execute_result"
    }
   ],
   "source": [
    "regressor.predict(X_test)"
   ]
  },
  {
   "cell_type": "code",
   "execution_count": 69,
   "metadata": {},
   "outputs": [
    {
     "data": {
      "text/plain": [
       "0.9366530809096324"
      ]
     },
     "execution_count": 69,
     "metadata": {},
     "output_type": "execute_result"
    }
   ],
   "source": [
    "regressor.score(X_test, y_test)"
   ]
  },
  {
   "cell_type": "markdown",
   "metadata": {},
   "source": [
    "And voilà !"
   ]
  },
  {
   "cell_type": "markdown",
   "metadata": {},
   "source": [
    "## From Scratch \n",
    "You will see that with matrices, it doesn't change much in the way of proceeding. Matrix writing, moreover, remains the same as simple regression. "
   ]
  },
  {
   "cell_type": "markdown",
   "metadata": {},
   "source": [
    "### Transform to matrix"
   ]
  },
  {
   "cell_type": "markdown",
   "metadata": {},
   "source": [
    "$$\n",
    "\\\\ Y = X . \\theta \\\\\n",
    "$$\n",
    "The $Y$ vector is the same too\n",
    "$$ Y =\n",
    "\\begin{bmatrix}\n",
    "y^{(1)}\\\\\n",
    "y^{(2)}\\\\\n",
    "y^{(3)}\\\\\n",
    "... \\\\\n",
    "y^{(m)}\\\\\n",
    "\\end{bmatrix}\n",
    "$$"
   ]
  },
  {
   "cell_type": "markdown",
   "metadata": {},
   "source": [
    "The $X$ matrix will have as many dimensions as there are features +1  (n+1)"
   ]
  },
  {
   "cell_type": "markdown",
   "metadata": {},
   "source": [
    "$$ X =\n",
    "\\begin{bmatrix}\n",
    "x^{(1)}_1, x^{(1)}_2, ..., x^{(m)}_{n}, 1\\\\\n",
    "x^{(2)}_1, x^{(2)}_2, ..., x^{(m)}_{n}, 1\\\\\n",
    "x^{(3)}_1, x^{(3)}_2, ..., x^{(m)}_{n}, 1\\\\\n",
    "x^{(m)}_1,x^{(m)}_2, ..., x^{(m)}_{n}, 1\\\\\n",
    "\\end{bmatrix}\n",
    "$$"
   ]
  },
  {
   "cell_type": "markdown",
   "metadata": {},
   "source": [
    "The theta vector will have as many lines as there are characteristics +1 (for the constant). \n",
    "$$ \\theta =\n",
    "\\begin{bmatrix}\n",
    "a\\\\\n",
    "b\\\\\n",
    "c\\\\\n",
    "... \\\\\n",
    "\\end{bmatrix}\n",
    "$$"
   ]
  },
  {
   "cell_type": "markdown",
   "metadata": {},
   "source": [
    "For our case with our dataset, we can write it like this: "
   ]
  },
  {
   "cell_type": "markdown",
   "metadata": {},
   "source": [
    "$$\n",
    "\\begin{bmatrix}\n",
    "y^{(1)}\\\\\n",
    "y^{(2)}\\\\\n",
    "y^{(3)}\\\\\n",
    "... \\\\\n",
    "y^{(m)}\\\\\n",
    "\\end{bmatrix}\n",
    "=\n",
    "\\begin{bmatrix}\n",
    "x^{(1)}_1, x^{(1)}_2, 1\\\\\n",
    "x^{(2)}_1, x^{(2)}_2, 1\\\\\n",
    "x^{(3)}_1, x^{(3)}_2, 1\\\\\n",
    "x^{(m)}_1,x^{(m)}_2,  1\\\\\n",
    "\\end{bmatrix}\n",
    ".\n",
    "\\begin{bmatrix}\n",
    "a\\\\\n",
    "b\\\\\n",
    "c\\\\\n",
    "\\end{bmatrix}\n",
    "$$"
   ]
  },
  {
   "cell_type": "markdown",
   "metadata": {},
   "source": [
    "**Exercise :** Create a variable X which contains a matrix (100,3) with two column's filled with values of our dataframe and then another one with 1's."
   ]
  },
  {
   "cell_type": "code",
   "execution_count": 70,
   "metadata": {},
   "outputs": [
    {
     "data": {
      "text/plain": [
       "(100, 2)"
      ]
     },
     "execution_count": 70,
     "metadata": {},
     "output_type": "execute_result"
    }
   ],
   "source": [
    "x.shape"
   ]
  },
  {
   "cell_type": "code",
   "execution_count": 71,
   "metadata": {},
   "outputs": [
    {
     "data": {
      "text/plain": [
       "100"
      ]
     },
     "execution_count": 71,
     "metadata": {},
     "output_type": "execute_result"
    }
   ],
   "source": [
    "x.shape[0]"
   ]
  },
  {
   "cell_type": "code",
   "execution_count": 75,
   "metadata": {},
   "outputs": [],
   "source": [
    "X=np.hstack((x, np.ones((x.shape[0],1))))"
   ]
  },
  {
   "cell_type": "code",
   "execution_count": 76,
   "metadata": {},
   "outputs": [
    {
     "data": {
      "text/plain": [
       "(100, 3)"
      ]
     },
     "execution_count": 76,
     "metadata": {},
     "output_type": "execute_result"
    }
   ],
   "source": []
  },
  {
   "cell_type": "markdown",
   "metadata": {},
   "source": [
    "**Exercise :** Check that your matrix is of shape (100,3) "
   ]
  },
  {
   "cell_type": "code",
   "execution_count": 77,
   "metadata": {},
   "outputs": [
    {
     "data": {
      "text/plain": [
       "(100, 3)"
      ]
     },
     "execution_count": 77,
     "metadata": {},
     "output_type": "execute_result"
    }
   ],
   "source": [
    "X.shape"
   ]
  },
  {
   "cell_type": "markdown",
   "metadata": {},
   "source": [
    "**Exercise :** Create the theta vector with three random values. Your vector must be of dimension \n",
    "(3,1)"
   ]
  },
  {
   "cell_type": "code",
   "execution_count": 78,
   "metadata": {},
   "outputs": [],
   "source": [
    "theta=np.random.randn(3,1)"
   ]
  },
  {
   "cell_type": "markdown",
   "metadata": {},
   "source": [
    "## Create and fit the model\n",
    "### Define your model"
   ]
  },
  {
   "cell_type": "markdown",
   "metadata": {},
   "source": [
    "**Exercise :** Create a model function that receives as parameter X and theta. The function must return the vector Y. This is exactly the same model as last time. "
   ]
  },
  {
   "cell_type": "code",
   "execution_count": 79,
   "metadata": {},
   "outputs": [],
   "source": [
    "def model(X, theta):\n",
    "    return X.dot(theta)"
   ]
  },
  {
   "cell_type": "markdown",
   "metadata": {},
   "source": [
    "### Cost function"
   ]
  },
  {
   "cell_type": "markdown",
   "metadata": {},
   "source": [
    "Well we have the model, the theta vector, the X matrix. What are we missing? The cost function of course!\n",
    "And you know what? This too is exactly the same MSE function from last time. \n",
    "\n",
    "$$MSE(\\theta) = \\frac {1}{2m}  \\sum _ {i=1}^m (X . \\theta - y)^2$$"
   ]
  },
  {
   "cell_type": "markdown",
   "metadata": {},
   "source": [
    "**Exercise :** Create a MSE function that receives in parameter X, y and theta using the example above."
   ]
  },
  {
   "cell_type": "code",
   "execution_count": 80,
   "metadata": {},
   "outputs": [],
   "source": [
    "def MSE(X,y,theta):\n",
    "    m=len(y)\n",
    "    return 1/(2*m) * np.sum((model(X, theta) - y)**2)"
   ]
  },
  {
   "cell_type": "code",
   "execution_count": 81,
   "metadata": {},
   "outputs": [
    {
     "data": {
      "text/plain": [
       "5747.41868584002"
      ]
     },
     "execution_count": 81,
     "metadata": {},
     "output_type": "execute_result"
    }
   ],
   "source": [
    "MSE(X,y,theta)"
   ]
  },
  {
   "cell_type": "code",
   "execution_count": 262,
   "metadata": {},
   "outputs": [
    {
     "data": {
      "text/plain": [
       "y    5789.494029\n",
       "dtype: float64"
      ]
     },
     "execution_count": 262,
     "metadata": {},
     "output_type": "execute_result"
    }
   ],
   "source": []
  },
  {
   "cell_type": "markdown",
   "metadata": {},
   "source": [
    "### Gradient descent\n",
    "It's time to find the minimum of our function. Well again, nothing changes compared to the last time. \n",
    "\n",
    "$$ \\frac {\\partial MSE(\\theta) }{\\partial \\theta}  = \\frac {1}{m} X^T.(X.\\theta - y)$$"
   ]
  },
  {
   "cell_type": "markdown",
   "metadata": {},
   "source": [
    "**Exercise :** Create a grad function that receives as parameter X, y, theta."
   ]
  },
  {
   "cell_type": "code",
   "execution_count": 82,
   "metadata": {},
   "outputs": [],
   "source": [
    "def grad(X, y, theta):\n",
    "    m = len(y)\n",
    "    return 1/m * X.T.dot(model(X, theta) - y)"
   ]
  },
  {
   "cell_type": "code",
   "execution_count": null,
   "metadata": {},
   "outputs": [],
   "source": []
  },
  {
   "cell_type": "markdown",
   "metadata": {},
   "source": [
    "**Exercise :**\n",
    "\n",
    "1. Create a `gradient_descent` function that receives as parameter `X`, `y`, `theta`, `learning_rate`, `n_iterations`\n",
    "2. In the function, create a variable `cost_history` with a matrix filled with 0 and which has a length of `n_iterations`. We will use it to display the histogram of the model learning process.\n",
    "3. Create a loop that iterates up to `n_iterations`\n",
    "4. In the loop, update `theta` with the formula of the gradient descent (The example above)\n",
    "5. In the loop, update `cost_history[i]` with the values of `MSE(X,y,theta)`\n",
    "6. return `theta` and `cost_history`"
   ]
  },
  {
   "cell_type": "code",
   "execution_count": 84,
   "metadata": {},
   "outputs": [],
   "source": [
    "def gradient_descent(X,y,theta,learning_rate,n_iterations):\n",
    "    cost_history=np.zeros(n_iterations)\n",
    "    for i in range(n_iterations):\n",
    "        theta = theta - learning_rate * grad(X, y, theta)\n",
    "        cost_history[i]=MSE(X,y,theta)\n",
    "    return theta, cost_history"
   ]
  },
  {
   "cell_type": "markdown",
   "metadata": {},
   "source": [
    "### Train your model "
   ]
  },
  {
   "cell_type": "markdown",
   "metadata": {},
   "source": [
    "**Exercise :** Create variables n_iterations and learning_rate."
   ]
  },
  {
   "cell_type": "code",
   "execution_count": 85,
   "metadata": {},
   "outputs": [],
   "source": [
    "n_iterations=1000\n",
    "learning_rate=0.01"
   ]
  },
  {
   "cell_type": "markdown",
   "metadata": {},
   "source": [
    "**Exercise:** Create variables theta_final, cost history and instance gradient_descent()."
   ]
  },
  {
   "cell_type": "code",
   "execution_count": 86,
   "metadata": {},
   "outputs": [],
   "source": [
    "theta_final, cost_history=gradient_descent(X,y,theta,learning_rate,n_iterations)"
   ]
  },
  {
   "cell_type": "markdown",
   "metadata": {},
   "source": [
    "**Exercise :** \n",
    "Create a predictions variable that contains model(X, theta_final).\n",
    "\n"
   ]
  },
  {
   "cell_type": "code",
   "execution_count": 87,
   "metadata": {},
   "outputs": [],
   "source": [
    "predictions=model(X,theta_final)"
   ]
  },
  {
   "cell_type": "markdown",
   "metadata": {},
   "source": [
    "**Exercise :** Project in 3d your predictions and the true values of the dataset"
   ]
  },
  {
   "cell_type": "code",
   "execution_count": 91,
   "metadata": {},
   "outputs": [
    {
     "data": {
      "image/png": "[encoded data removed]",
      "text/plain": [
       "<Figure size 1080x864 with 1 Axes>"
      ]
     },
     "metadata": {
      "needs_background": "light"
     },
     "output_type": "display_data"
    }
   ],
   "source": [
    "plt.figure(figsize=(15,12))\n",
    "ax = plt.axes(projection='3d')\n",
    "ax.set_xlabel('x_1')\n",
    "ax.set_ylabel('x_2')\n",
    "ax.set_zlabel('y')\n",
    "ax.scatter3D(x_1, x_2, predictions, c='blue');"
   ]
  },
  {
   "cell_type": "code",
   "execution_count": 93,
   "metadata": {},
   "outputs": [
    {
     "data": {
      "image/png": "[encoded data removed]",
      "text/plain": [
       "<Figure size 432x288 with 1 Axes>"
      ]
     },
     "metadata": {
      "needs_background": "light"
     },
     "output_type": "display_data"
    }
   ],
   "source": [
    "from mpl_toolkits.mplot3d import Axes3D\n",
    "fig3d=plt.figure()\n",
    "ax=Axes3D(fig3d)\n",
    "ax.scatter(x_1, x_2, predictions, c='blue')\n",
    "ax.scatter(x_1, x_2, y, c='red')\n",
    "plt.show()"
   ]
  },
  {
   "cell_type": "code",
   "execution_count": null,
   "metadata": {},
   "outputs": [],
   "source": []
  },
  {
   "cell_type": "code",
   "execution_count": null,
   "metadata": {},
   "outputs": [],
   "source": []
  },
  {
   "cell_type": "markdown",
   "metadata": {},
   "source": [
    "**Exercise :** Plot cost_history"
   ]
  },
  {
   "cell_type": "code",
   "execution_count": 94,
   "metadata": {},
   "outputs": [
    {
     "data": {
      "text/plain": [
       "[<matplotlib.lines.Line2D at 0x7fa22435f790>]"
      ]
     },
     "execution_count": 94,
     "metadata": {},
     "output_type": "execute_result"
    },
    {
     "data": {
      "image/png": "[encoded data removed]",
      "text/plain": [
       "<Figure size 432x288 with 1 Axes>"
      ]
     },
     "metadata": {
      "needs_background": "light"
     },
     "output_type": "display_data"
    }
   ],
   "source": [
    "plt.plot(range(n_iterations), cost_history)"
   ]
  },
  {
   "cell_type": "markdown",
   "metadata": {},
   "source": [
    "### Evaluation"
   ]
  },
  {
   "cell_type": "code",
   "execution_count": 95,
   "metadata": {},
   "outputs": [],
   "source": [
    "def coef_determination(y, pred):\n",
    "    u = ((y - pred)**2).sum()\n",
    "    v = ((y - y.mean())**2).sum()\n",
    "    return 1 - u/v"
   ]
  },
  {
   "cell_type": "code",
   "execution_count": 96,
   "metadata": {},
   "outputs": [
    {
     "data": {
      "text/plain": [
       "0.9320499572702957"
      ]
     },
     "execution_count": 96,
     "metadata": {},
     "output_type": "execute_result"
    }
   ],
   "source": [
    "coef_determination(y, predictions)"
   ]
  },
  {
   "cell_type": "code",
   "execution_count": null,
   "metadata": {},
   "outputs": [],
   "source": []
  },
  {
   "cell_type": "code",
   "execution_count": 283,
   "metadata": {},
   "outputs": [
    {
     "data": {
      "text/plain": [
       "y    0.93205\n",
       "dtype: float64"
      ]
     },
     "execution_count": 283,
     "metadata": {},
     "output_type": "execute_result"
    }
   ],
   "source": [
    "coef_determination(y, predictions)"
   ]
  },
  {
   "cell_type": "code",
   "execution_count": null,
   "metadata": {},
   "outputs": [],
   "source": []
  },
  {
   "cell_type": "markdown",
   "metadata": {},
   "source": [
    "### Congratulations !\n",
    "\n",
    "You are now able to create a multiple variable regression model from scratch, well, from the matrix!"
   ]
  },
  {
   "cell_type": "markdown",
   "metadata": {},
   "source": [
    "<img src=\"https://media.giphy.com/media/W9lzJDwciz6bS/giphy.gif\">"
   ]
  }
 ],
 "metadata": {
  "kernelspec": {
   "display_name": "Python 3",
   "language": "python",
   "name": "python3"
  },
  "language_info": {
   "codemirror_mode": {
    "name": "ipython",
    "version": 3
   },
   "file_extension": ".py",
   "mimetype": "text/x-python",
   "name": "python",
   "nbconvert_exporter": "python",
   "pygments_lexer": "ipython3",
   "version": "3.7.6"
  }
 },
 "nbformat": 4,
 "nbformat_minor": 4
}
